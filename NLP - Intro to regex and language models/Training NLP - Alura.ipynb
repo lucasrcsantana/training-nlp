{
 "cells": [
  {
   "cell_type": "code",
   "execution_count": 1,
   "metadata": {},
   "outputs": [],
   "source": [
    "import pandas as pd"
   ]
  },
  {
   "cell_type": "markdown",
   "metadata": {},
   "source": [
    "# Final Algorithm"
   ]
  },
  {
   "cell_type": "code",
   "execution_count": 2,
   "metadata": {},
   "outputs": [],
   "source": [
    "dados_portugues = pd.read_csv('dataset/stackoverflow_portugues.csv')\n",
    "dados_ingles = pd.read_csv('dataset/stackoverflow_ingles.csv')\n",
    "dados_espanhol = pd.read_csv('dataset/stackoverflow_espanhol.csv')"
   ]
  },
  {
   "cell_type": "code",
   "execution_count": 3,
   "metadata": {},
   "outputs": [],
   "source": [
    "dirty_column = 'Questão'\n",
    "cleaned_column = 'Questão Limpa'\n",
    "regex_list = [\n",
    "    r'<.*?>',\n",
    "    r'<code>(.|(\\n))*?</code>',\n",
    "    r'[^ \\w+]',\n",
    "    r'\\d+',\n",
    "    r'\\s+'\n",
    "]\n",
    "substituation_list = [\n",
    "    '',\n",
    "    '',\n",
    "    ' ',\n",
    "    ' ',\n",
    "    ' '\n",
    "]"
   ]
  },
  {
   "cell_type": "code",
   "execution_count": 4,
   "metadata": {},
   "outputs": [],
   "source": [
    "import re"
   ]
  },
  {
   "cell_type": "code",
   "execution_count": 5,
   "metadata": {},
   "outputs": [],
   "source": [
    "from typing import List, TypeVar\n",
    "pandas_type = TypeVar('pandas.core.frame.DataFrame')"
   ]
  },
  {
   "cell_type": "code",
   "execution_count": 27,
   "metadata": {},
   "outputs": [],
   "source": [
    "def clean_column_apply(\n",
    "    df: pandas_type,\n",
    "    dirty_column: str,\n",
    "    cleaned_column: str,\n",
    "    regex_list: List[str],\n",
    "    substituation_list: List[str]) -> pandas_type:\n",
    "    \n",
    "    df[cleaned_column] = df[dirty_column]\n",
    "    \n",
    "    for regex, subst in zip(regex_list, substituation_list):\n",
    "        regex_compiled = re.compile(regex, 2)\n",
    "        df[cleaned_column] = df[cleaned_column].apply(lambda x : regex_compiled.sub(subst, x))\n",
    "    \n",
    "    df[cleaned_column] = df[cleaned_column].apply(lambda x : x.lower())\n",
    "    return df"
   ]
  },
  {
   "cell_type": "code",
   "execution_count": 7,
   "metadata": {},
   "outputs": [],
   "source": [
    "def clean_column(\n",
    "    df: pandas_type,\n",
    "    dirty_column: str,\n",
    "    cleaned_column: str,\n",
    "    regex_list: List[str],\n",
    "    substituation_list: List[str]) -> pandas_type:\n",
    "    \n",
    "    tags_filter = re.compile(r'<.*?>', 2)\n",
    "    code_regex = re.compile(r'<code>(.|(\\n))*?</code>', 2)\n",
    "    punctuation_regex = re.compile(r'[^ \\w]', 2)\n",
    "    number_regex = re.compile(r'\\d+', 2)\n",
    "    spaces_regex = re.compile(r'\\s+', 2)\n",
    "    \n",
    "    df[cleaned_column] = df[dirty_column].apply(lambda x : code_regex.sub('', x))\n",
    "    df[cleaned_column] = df[cleaned_column].apply(lambda x : tags_filter.sub('', x))\n",
    "    df[cleaned_column] = df[cleaned_column].apply(lambda x : punctuation_regex.sub(' ', x))\n",
    "    df[cleaned_column] = df[cleaned_column].apply(lambda x : number_regex.sub(' ', x))\n",
    "    df[cleaned_column] = df[cleaned_column].apply(lambda x : x.lower())\n",
    "    df[cleaned_column] = df[cleaned_column].apply(lambda x : spaces_regex.sub(' ', x))\n",
    "    \n",
    "    return df"
   ]
  },
  {
   "cell_type": "code",
   "execution_count": 8,
   "metadata": {},
   "outputs": [],
   "source": [
    "dados_portugues = clean_column(\n",
    "    dados_portugues,\n",
    "    dirty_column,\n",
    "    cleaned_column,\n",
    "    regex_list,\n",
    "    substituation_list)\n",
    "\n",
    "dados_ingles = clean_column(\n",
    "    dados_ingles,\n",
    "    dirty_column,\n",
    "    cleaned_column,\n",
    "    regex_list,\n",
    "    substituation_list)\n",
    "\n",
    "dados_espanhol = clean_column(\n",
    "    dados_espanhol,\n",
    "    dirty_column,\n",
    "    cleaned_column,\n",
    "    regex_list,\n",
    "    substituation_list)"
   ]
  },
  {
   "cell_type": "markdown",
   "metadata": {},
   "source": [
    "## Train and Split"
   ]
  },
  {
   "cell_type": "code",
   "execution_count": 9,
   "metadata": {},
   "outputs": [],
   "source": [
    "from sklearn.model_selection import train_test_split\n",
    "\n",
    "pt_train_dataset, pt_test_dataset = train_test_split(\n",
    "    dados_portugues['Questão Limpa'],\n",
    "    test_size=0.2,\n",
    "    random_state=222)\n",
    "\n",
    "en_train_dataset, en_test_dataset = train_test_split(\n",
    "    dados_ingles['Questão Limpa'],\n",
    "    test_size=0.2,\n",
    "    random_state=222)\n",
    "\n",
    "esp_train_dataset, esp_test_dataset = train_test_split(\n",
    "    dados_espanhol['Questão Limpa'],\n",
    "    test_size=0.2,\n",
    "    random_state=222)"
   ]
  },
  {
   "cell_type": "markdown",
   "metadata": {},
   "source": [
    "## Model"
   ]
  },
  {
   "cell_type": "markdown",
   "metadata": {},
   "source": [
    "### Model MLE"
   ]
  },
  {
   "cell_type": "code",
   "execution_count": 10,
   "metadata": {},
   "outputs": [],
   "source": [
    "from nltk.lm.preprocessing import padded_everygram_pipeline\n",
    "from nltk.lm import MLE\n",
    "\n",
    "def lme_model_train(text_list):\n",
    "    full_text = ' '.join(text_list)\n",
    "    splited_text = full_text.split()\n",
    "    bigrams, vocabulary = padded_everygram_pipeline(order = 2, text = splited_text)\n",
    "    model = MLE(2)\n",
    "    model.fit(bigrams, vocabulary)\n",
    "    return model"
   ]
  },
  {
   "cell_type": "code",
   "execution_count": 11,
   "metadata": {},
   "outputs": [],
   "source": [
    "model_pt = lme_model_train(pt_train_dataset)\n",
    "model_en = lme_model_train(en_train_dataset)\n",
    "model_esp = lme_model_train(esp_train_dataset)"
   ]
  },
  {
   "cell_type": "markdown",
   "metadata": {},
   "source": [
    "### Model Laplace"
   ]
  },
  {
   "cell_type": "code",
   "execution_count": 12,
   "metadata": {},
   "outputs": [],
   "source": [
    "from nltk.lm import Laplace\n",
    "\n",
    "def lme_model_train_laplace(text_list):\n",
    "    full_text = ' '.join(text_list)\n",
    "    splited_text = full_text.split()\n",
    "    bigrams, vocabulary = padded_everygram_pipeline(order = 2, text = splited_text)\n",
    "    model = Laplace(2)\n",
    "    model.fit(bigrams, vocabulary)\n",
    "    return model"
   ]
  },
  {
   "cell_type": "code",
   "execution_count": 13,
   "metadata": {},
   "outputs": [],
   "source": [
    "model_pt_laplace = lme_model_train_laplace(pt_train_dataset)\n",
    "model_en_laplace = lme_model_train_laplace(en_train_dataset)\n",
    "model_esp_laplace = lme_model_train_laplace(esp_train_dataset)"
   ]
  },
  {
   "cell_type": "markdown",
   "metadata": {},
   "source": [
    "### Calculating Perplexity"
   ]
  },
  {
   "cell_type": "code",
   "execution_count": 14,
   "metadata": {},
   "outputs": [],
   "source": [
    "from nltk.lm.preprocessing import pad_both_ends\n",
    "from nltk.util import bigrams\n",
    "\n",
    "def calculate_perplexity(model, text):\n",
    "    perplexity = 0\n",
    "    palavras = text.split()\n",
    "    palavras_fakechar = [ list(pad_both_ends(palavra, 2)) for palavra in palavras ]\n",
    "    palavras_bigrams = [ list(bigrams(palavra)) for palavra in palavras_fakechar ]\n",
    "    \n",
    "    for palavra in palavras_bigrams:\n",
    "        perplexity += model.perplexity(palavra)\n",
    "    \n",
    "    return perplexity"
   ]
  },
  {
   "cell_type": "code",
   "execution_count": 15,
   "metadata": {},
   "outputs": [
    {
     "data": {
      "text/plain": [
       "1071.2383257716294"
      ]
     },
     "execution_count": 15,
     "metadata": {},
     "output_type": "execute_result"
    }
   ],
   "source": [
    "perp = calculate_perplexity(model_pt, pt_test_dataset.iloc[2])\n",
    "perp"
   ]
  },
  {
   "cell_type": "code",
   "execution_count": 16,
   "metadata": {},
   "outputs": [
    {
     "data": {
      "text/plain": [
       "1075.2419895409655"
      ]
     },
     "execution_count": 16,
     "metadata": {},
     "output_type": "execute_result"
    }
   ],
   "source": [
    "perp = calculate_perplexity(model_pt_laplace, pt_test_dataset.iloc[2])\n",
    "perp"
   ]
  },
  {
   "cell_type": "code",
   "execution_count": 17,
   "metadata": {},
   "outputs": [],
   "source": [
    "pt_test_dataset = pd.DataFrame(pt_test_dataset)\n",
    "en_test_dataset = pd.DataFrame(en_test_dataset)\n",
    "esp_test_dataset = pd.DataFrame(esp_test_dataset)"
   ]
  },
  {
   "cell_type": "code",
   "execution_count": 18,
   "metadata": {},
   "outputs": [],
   "source": [
    "pt_test_dataset['Idioma'] = 'pt'\n",
    "en_test_dataset['Idioma'] = 'en'\n",
    "esp_test_dataset['Idioma'] = 'esp'"
   ]
  },
  {
   "cell_type": "markdown",
   "metadata": {},
   "source": [
    "## Assign language"
   ]
  },
  {
   "cell_type": "code",
   "execution_count": 19,
   "metadata": {},
   "outputs": [],
   "source": [
    "def assign_language(df):\n",
    "    df['pt'] = 0\n",
    "    df['en'] = 0\n",
    "    df['esp'] = 0\n",
    "    df['Idioma Inferido'] = 'vazio'\n",
    "    \n",
    "    df['pt'] = df['Questão Limpa'].apply(lambda x: calculate_perplexity(model_pt_laplace, x))\n",
    "    df['en'] = df['Questão Limpa'].apply(lambda x: calculate_perplexity(model_en_laplace, x))\n",
    "    df['esp'] = df['Questão Limpa'].apply(lambda x: calculate_perplexity(model_esp_laplace, x))\n",
    "    \n",
    "    df['Idioma Inferido'] = df[['pt', 'en', 'esp']].idxmin(axis=1)\n",
    "    df['Acerto'] = (df['Idioma'] == df['Idioma Inferido'])\n",
    "    \n",
    "    return df"
   ]
  },
  {
   "cell_type": "code",
   "execution_count": 20,
   "metadata": {},
   "outputs": [],
   "source": [
    "pt_test_dataset = assign_language(pt_test_dataset)"
   ]
  },
  {
   "cell_type": "code",
   "execution_count": 21,
   "metadata": {},
   "outputs": [],
   "source": [
    "en_test_dataset = assign_language(en_test_dataset)"
   ]
  },
  {
   "cell_type": "code",
   "execution_count": 22,
   "metadata": {},
   "outputs": [],
   "source": [
    "esp_test_dataset = assign_language(esp_test_dataset)"
   ]
  },
  {
   "cell_type": "markdown",
   "metadata": {},
   "source": [
    "## Evaluating model"
   ]
  },
  {
   "cell_type": "code",
   "execution_count": 23,
   "metadata": {},
   "outputs": [],
   "source": [
    "def evaluate_model(df):\n",
    "    accuracy = df['Acerto'].value_counts().iloc[0] / len(df)\n",
    "    return accuracy"
   ]
  },
  {
   "cell_type": "code",
   "execution_count": 24,
   "metadata": {},
   "outputs": [
    {
     "data": {
      "text/plain": [
       "1.0"
      ]
     },
     "execution_count": 24,
     "metadata": {},
     "output_type": "execute_result"
    }
   ],
   "source": [
    "evaluate_model(pt_test_dataset)"
   ]
  },
  {
   "cell_type": "code",
   "execution_count": 25,
   "metadata": {},
   "outputs": [
    {
     "data": {
      "text/plain": [
       "1.0"
      ]
     },
     "execution_count": 25,
     "metadata": {},
     "output_type": "execute_result"
    }
   ],
   "source": [
    "evaluate_model(en_test_dataset)"
   ]
  },
  {
   "cell_type": "code",
   "execution_count": 26,
   "metadata": {},
   "outputs": [
    {
     "data": {
      "text/plain": [
       "0.99"
      ]
     },
     "execution_count": 26,
     "metadata": {},
     "output_type": "execute_result"
    }
   ],
   "source": [
    "evaluate_model(esp_test_dataset)"
   ]
  },
  {
   "cell_type": "code",
   "execution_count": null,
   "metadata": {},
   "outputs": [],
   "source": []
  },
  {
   "cell_type": "code",
   "execution_count": null,
   "metadata": {},
   "outputs": [],
   "source": []
  },
  {
   "cell_type": "markdown",
   "metadata": {},
   "source": [
    "# CLASS - EXPLORATION"
   ]
  },
  {
   "cell_type": "markdown",
   "metadata": {},
   "source": [
    "# REGEX"
   ]
  },
  {
   "cell_type": "markdown",
   "metadata": {},
   "source": [
    "## Findall\n",
    "Creating a set of filter tags that follow `r'<.*?>` pattern"
   ]
  },
  {
   "cell_type": "code",
   "execution_count": 1,
   "metadata": {},
   "outputs": [],
   "source": [
    "import pandas as pd"
   ]
  },
  {
   "cell_type": "code",
   "execution_count": 4,
   "metadata": {},
   "outputs": [],
   "source": [
    "import re"
   ]
  },
  {
   "cell_type": "code",
   "execution_count": 5,
   "metadata": {},
   "outputs": [],
   "source": [
    "dados_portugues = pd.read_csv('dataset/stackoverflow_portugues.csv')\n",
    "dados_ingles = pd.read_csv('dataset/stackoverflow_ingles.csv')\n",
    "dados_espanhol = pd.read_csv('dataset/stackoverflow_espanhol.csv')"
   ]
  },
  {
   "cell_type": "code",
   "execution_count": 6,
   "metadata": {},
   "outputs": [
    {
     "data": {
      "text/plain": [
       "{'</a>',\n",
       " '</b>',\n",
       " '</blockquote>',\n",
       " '</code>',\n",
       " '</div>',\n",
       " '</em>',\n",
       " '</h1>',\n",
       " '</h2>',\n",
       " '</h3>',\n",
       " '</i>',\n",
       " '</kbd>',\n",
       " '</li>',\n",
       " '</ol>',\n",
       " '</p>',\n",
       " '</pre>',\n",
       " '</strong>',\n",
       " '</sub>',\n",
       " '</sup>',\n",
       " '</ul>',\n",
       " '<a href=\"/questions/tagged/assembly\" class=\"post-tag\" title=\"mostrar perguntas com a tag &#39;assembly&#39;\" rel=\"tag\">',\n",
       " '<a href=\"/questions/tagged/c\" class=\"post-tag\" title=\"mostrar perguntas com a tag &#39;c&#39;\" rel=\"tag\">',\n",
       " '<a href=\"/questions/tagged/c%2b%2b\" class=\"post-tag\" title=\"mostrar perguntas com a tag &#39;c++&#39;\" rel=\"tag\">',\n",
       " '<a href=\"/questions/tagged/css\" class=\"post-tag\" title=\"mostrar perguntas com a tag &#39;css&#39;\" rel=\"tag\">',\n",
       " '<a href=\"/questions/tagged/java\" class=\"post-tag\" title=\"mostrar perguntas com a tag &#39;java&#39;\" rel=\"tag\">',\n",
       " '<a href=\"/questions/tagged/laravel\" class=\"post-tag\" title=\"mostrar perguntas com a tag &#39;laravel&#39;\" rel=\"tag\">',\n",
       " '<a href=\"/questions/tagged/php\" class=\"post-tag\" title=\"mostrar perguntas com a tag &#39;php&#39;\" rel=\"tag\">',\n",
       " '<a href=\"http://blogdoiphone.com/2014/09/apple-conserta-brecha-que-permitia-ataques-do-tipo-brute-force-no-icloud/\">',\n",
       " '<a href=\"http://blogs.msdn.com/b/dotnet/archive/2014/04/02/announcing-net-native-preview.aspx\" rel=\"noreferrer\">',\n",
       " '<a href=\"http://blogs.msdn.com/b/dotnet/archive/2014/11/12/net-core-is-open-source.aspx\" rel=\"noreferrer\">',\n",
       " '<a href=\"http://books.google.com.br/books?id=406_pJtiJ6sC\" rel=\"noreferrer\">',\n",
       " '<a href=\"http://br.php.net/manual/pt_BR/control-structures.switch.php\" rel=\"noreferrer\">',\n",
       " '<a href=\"http://caniuse.com/#feat=clipboard\">',\n",
       " '<a href=\"http://charlieharvey.org.uk/page/javascript_the_weird_parts\">',\n",
       " '<a href=\"http://coffeescript.org/\">',\n",
       " '<a href=\"http://db-engines.com/en/ranking\" rel=\"noreferrer\">',\n",
       " '<a href=\"http://deepliquid.com/projects/Jcrop/demos.php\">',\n",
       " '<a href=\"http://desciclopedia.org/wiki/Programa%C3%A7%C3%A3o_Orientada_a_Gambiarras\">',\n",
       " '<a href=\"http://dev.w3.org/2006/webapi/clipops/clipops.html\">',\n",
       " '<a href=\"http://docs.oracle.com/javase/7/docs/technotes/guides/jni/\">',\n",
       " '<a href=\"http://docs.oracle.com/javase/7/docs/technotes/guides/vm/G1.html\">',\n",
       " '<a href=\"http://docs.oracle.com/javase/tutorial/uiswing/concurrency/dispatch.html\" rel=\"nofollow noreferrer\">',\n",
       " '<a href=\"http://doughellmann.com/2009/06/19/python-exception-handling-techniques.html\" rel=\"noreferrer\">',\n",
       " '<a href=\"http://dougillustration.com.au/uncategorized/office-building-floors-vector-isometric-16/\" rel=\"noreferrer\">',\n",
       " '<a href=\"http://ecos-da-traducao.blogspot.com.br/2011/07/taxa-de-expansao-de-palavras-e_26.html\">',\n",
       " '<a href=\"http://eduardospaki.blogspot.com.br/2011/07/fonetica-sql-server.html\" rel=\"noreferrer\">',\n",
       " '<a href=\"http://en.wikipedia.org/wiki/A*_search_algorithm\" rel=\"noreferrer\">',\n",
       " '<a href=\"http://en.wikipedia.org/wiki/Brute-force_attack\">',\n",
       " '<a href=\"http://en.wikipedia.org/wiki/CPU_cache#Cache_miss\" rel=\"nofollow noreferrer\">',\n",
       " '<a href=\"http://en.wikipedia.org/wiki/Goto\">',\n",
       " '<a href=\"http://en.wikipedia.org/wiki/International_Components_for_Unicode\" rel=\"noreferrer\">',\n",
       " '<a href=\"http://en.wikipedia.org/wiki/Metaphone\" rel=\"noreferrer\">',\n",
       " '<a href=\"http://en.wikipedia.org/wiki/Phonetic_algorithm\" rel=\"noreferrer\">',\n",
       " '<a href=\"http://en.wikipedia.org/wiki/Shortest_path_problem\" rel=\"noreferrer\">',\n",
       " '<a href=\"http://en.wikipedia.org/wiki/Soundex\" rel=\"noreferrer\">',\n",
       " '<a href=\"http://groovy.codehaus.org/Closures\">',\n",
       " '<a href=\"http://ideone.com/EAkQmM\">',\n",
       " '<a href=\"http://informatica.varzeapaulista.sp.gov.br/metaphone/\" rel=\"noreferrer\">',\n",
       " '<a href=\"http://jd.benow.ca/\" rel=\"noreferrer\">',\n",
       " '<a href=\"http://jessefreeman.com/game-dev/intro-to-programming-for-games-with-javascript/\">',\n",
       " '<a href=\"http://jnrbsn.com/2010/06/mysqli-vs-pdo-benchmarks\">',\n",
       " '<a href=\"http://jsfiddle.net/bmsvypb9/\">',\n",
       " '<a href=\"http://jsfiddle.net/bmsvypb9/2/\">',\n",
       " '<a href=\"http://jsfiddle.net/dK2r6/\">',\n",
       " '<a href=\"http://jsfiddle.net/mgibsonbr/KY8c3/\">',\n",
       " '<a href=\"http://jsfiddle.net/mgibsonbr/VLVzm/\" rel=\"noreferrer\">',\n",
       " '<a href=\"http://jsfiddle.net/wallacemaxters/uz7dak86/\" rel=\"noreferrer\">',\n",
       " '<a href=\"http://jsfiddle.net/wyj51v2b/\">',\n",
       " '<a href=\"http://localhost\">',\n",
       " '<a href=\"http://moveissaobento.com.br/msb/promocoes\">',\n",
       " '<a href=\"http://msdn.microsoft.com/en-us/library/bb383973.aspx\" rel=\"noreferrer\">',\n",
       " '<a href=\"http://msdn.microsoft.com/en-us/library/ms173172.aspx\">',\n",
       " '<a href=\"http://msdn.microsoft.com/pt-br/library/system.dividebyzeroexception%28v=vs.110%29.aspx\">',\n",
       " '<a href=\"http://msdn.microsoft.com/pt-br/vstudio/dotnetnative.aspx\" rel=\"noreferrer\">',\n",
       " '<a href=\"http://openjdk.java.net/jeps/248\">',\n",
       " '<a href=\"http://openjdk.java.net/projects/jdk8/\">',\n",
       " '<a href=\"http://openjdk.java.net/projects/jdk9/\">',\n",
       " '<a href=\"http://pastebin.com/5N8z3B5y\" rel=\"noreferrer\">',\n",
       " '<a href=\"http://paulhammant.com/2012/03/03/replacing-jquery-with-angular/\">',\n",
       " '<a href=\"http://people.mozilla.org/~jorendorff/es6-draft.html#sec-let-and-const-declarations\">',\n",
       " '<a href=\"http://php.dzone.com/articles/5-things-you-should-check-now\">',\n",
       " '<a href=\"http://postimg.org/image/s2nzv51fv/\" rel=\"noreferrer\">',\n",
       " '<a href=\"http://pt.wikipedia.org/wiki/Analisador_sint%C3%A1tico_LL\">',\n",
       " '<a href=\"http://pt.wikipedia.org/wiki/Analisador_sint%C3%A1tico_LR\">',\n",
       " '<a href=\"http://pt.wikipedia.org/wiki/Ataque_de_for%C3%A7a_bruta\" rel=\"noreferrer\">',\n",
       " '<a href=\"http://pt.wikipedia.org/wiki/Criptoan%C3%A1lise_de_mangueira_de_borracha\" rel=\"noreferrer\">',\n",
       " '<a href=\"http://pt.wikipedia.org/wiki/Curva_ABC\">',\n",
       " '<a href=\"http://pt.wikipedia.org/wiki/Dialeto_da_costa_norte\" rel=\"noreferrer\">',\n",
       " '<a href=\"http://pt.wikipedia.org/wiki/Dialeto_ga%C3%BAcho\" rel=\"noreferrer\">',\n",
       " '<a href=\"http://pt.wikipedia.org/wiki/Fun%C3%A7%C3%A3o_de_embaralhamento_criptogr%C3%A1fico\" rel=\"noreferrer\">',\n",
       " '<a href=\"http://pt.wikipedia.org/wiki/Keylogger\" rel=\"noreferrer\">',\n",
       " '<a href=\"http://pt.wikipedia.org/wiki/L%C3%B3gica_tern%C3%A1ria#Aplica.C3.A7.C3.B5es_de_bancos_de_dados\">',\n",
       " '<a href=\"http://pt.wikipedia.org/wiki/Modelo_em_cascata\">',\n",
       " '<a href=\"http://pt.wikipedia.org/wiki/Objeto_imut%C3%A1vel\" rel=\"noreferrer\">',\n",
       " '<a href=\"http://pt.wikipedia.org/wiki/Processo_unificado\" rel=\"noreferrer\">',\n",
       " '<a href=\"http://pt.wikipedia.org/wiki/Recursividade_%28ci%C3%AAncia_da_computa%C3%A7%C3%A3o%29\">',\n",
       " '<a href=\"http://pt.wikipedia.org/wiki/Scrum\">',\n",
       " '<a href=\"http://pt.wikipedia.org/wiki/String_Fon%C3%A9tica\" rel=\"noreferrer\">',\n",
       " '<a href=\"http://python.net/~goodger/projects/pycon/2007/idiomatic/handout.html\" rel=\"noreferrer\">',\n",
       " '<a href=\"http://radioagencianacional.ebc.com.br/geral/audio/2015-06/relogios-oficiais-terao-acrescimo-de-um-segundo-por-alteracoes-gravitacionais\">',\n",
       " '<a href=\"http://rodrigonormandia.com/?p=108%5D\">',\n",
       " '<a href=\"http://schema.org/Organization\" rel=\"noreferrer\">',\n",
       " '<a href=\"http://security.stackexchange.com\">',\n",
       " '<a href=\"http://seumukifo.blogspot.com.br/2009/12/dicionario-piracicabano.html\" rel=\"noreferrer\">',\n",
       " '<a href=\"http://spectrum.ieee.org/computing/software/top-10-programming-languages\">',\n",
       " '<a href=\"http://sqlfiddle.com/#!6/1d38e/24\" rel=\"noreferrer\">',\n",
       " '<a href=\"http://sqlfiddle.com/#!6/d1b63/1\" rel=\"nofollow noreferrer\">',\n",
       " '<a href=\"http://techcrunch.com/2014/11/12/microsoft-makes-visual-studio-free-for-small-teams/\">',\n",
       " '<a href=\"http://tecnoblog.net/153561/facebook-hack-linguagem-de-programacao/\" rel=\"noreferrer\">',\n",
       " '<a href=\"http://wiki.c2.com/?SingletonsAreEvil\" rel=\"noreferrer\">',\n",
       " '<a href=\"http://www.antiifcampaign.com/\">',\n",
       " '<a href=\"http://www.aprovincia.com.br/conversa-de-pescador/cultura-caipira/delicias-do-diferenciado-falar-caipira/\" rel=\"noreferrer\">',\n",
       " '<a href=\"http://www.asp.net/identity/overview/getting-started/introduction-to-aspnet-identity\">',\n",
       " '<a href=\"http://www.brunoportfolio.com/arquivos/pdf/BuscaBR_Fonetica.pdf\" rel=\"noreferrer\">',\n",
       " '<a href=\"http://www.cacert.org/\" rel=\"noreferrer\">',\n",
       " '<a href=\"http://www.caelum.com.br/apostila-java-orientacao-objetos/heranca-reescrita-e-polimorfismo/\" rel=\"noreferrer\">',\n",
       " '<a href=\"http://www.cicret.com/\">',\n",
       " '<a href=\"http://www.codeabbey.com/index/task_view/prime-numbers-generation\" rel=\"noreferrer\">',\n",
       " '<a href=\"http://www.dca.fee.unicamp.br/cursos/POOCPP/node15.html\" rel=\"noreferrer\">',\n",
       " '<a href=\"http://www.devmedia.com.br/forum/soundex-em-portugues/274192\" rel=\"noreferrer\">',\n",
       " '<a href=\"http://www.diveintopython.net/file_handling/\" rel=\"noreferrer\">',\n",
       " '<a href=\"http://www.jeremyzerr.com/why-you-should-use-angularjs-your-next-web-application\">',\n",
       " '<a href=\"http://www.kano.me/\">',\n",
       " '<a href=\"http://www.lexml.gov.br/urn/urn:lex:br;sao.paulo;campinas:municipal:lei:1953-06-23;943\" rel=\"noreferrer\">',\n",
       " '<a href=\"http://www.linhadecodigo.com.br/artigo/2237/implementando-algoritmo-buscabr.aspx\" rel=\"noreferrer\">',\n",
       " '<a href=\"http://www.livrariasaraiva.com.br/produto/2666082/codigo-limpo-habilidades-praticas-do-agile-software-edicao-revisada/\" rel=\"noreferrer\">',\n",
       " '<a href=\"http://www.macoratti.net/sql_sdex.htm\" rel=\"noreferrer\">',\n",
       " '<a href=\"http://www.nvidia.com.br/object/tegra-superchip-br.html\">',\n",
       " '<a href=\"http://www.on.br/\">',\n",
       " '<a href=\"http://www.receita.fazenda.gov.br/aplicacoes/atcta/cpf/consultapublica.asp\" rel=\"noreferrer\">',\n",
       " '<a href=\"http://www.sqlite.org/c3ref/create_collation.html\" rel=\"noreferrer\">',\n",
       " '<a href=\"http://www.techmag.com.br/bioflex/\" rel=\"noreferrer\">',\n",
       " '<a href=\"http://www.tecmundo.com.br/intel/1039-o-que-e-inteligencia-artificial-.htm\">',\n",
       " '<a href=\"http://www.tecmundo.com.br/relogio/82347-dia-30-junho-tera-1-segundo-causar.htm\">',\n",
       " '<a href=\"http://www.toradex.com/products/colibri-arm-computer-modules/colibri-t20\">',\n",
       " '<a href=\"http://www.typescriptlang.org/\">',\n",
       " '<a href=\"http://www.uniritter.edu.br/graduacao/informatica/sistemas/downloads/tcc2k9/TCCII_2009_1_Roni.pdf\" rel=\"noreferrer\">',\n",
       " '<a href=\"http://www.w3.org/Protocols/rfc2616/rfc2616-sec5.html#sec5.1.1\">',\n",
       " '<a href=\"http://www.w3.org/TR/WebCryptoAPI/\" rel=\"nofollow noreferrer\">',\n",
       " '<a href=\"http://www.w3schools.com/sql/sql_view.asp\">',\n",
       " '<a href=\"https://blogs.msdn.microsoft.com/wcamb/2008/01/13/gramticas-linguagens-e-compiladores-um-retorno-s-bases/\" rel=\"noreferrer\">',\n",
       " '<a href=\"https://booker.codes/how-to-build-and-publish-es6-npm-modules-today-with-babel/\" rel=\"noreferrer\">',\n",
       " '<a href=\"https://dba.stackexchange.com/questions/59/when-to-use-null-and-when-to-use-an-empty-string\">',\n",
       " '<a href=\"https://developer.mozilla.org/en-US/docs/Web/HTML/Global_attributes/id\" rel=\"noreferrer\">',\n",
       " '<a href=\"https://developer.mozilla.org/pt-BR/docs/Web/JavaScript/A_re-introduction_to_JavaScript\">',\n",
       " '<a href=\"https://developer.mozilla.org/pt-BR/docs/Web/JavaScript/Reference/Global_Objects/Math/random\">',\n",
       " '<a href=\"https://docs.oracle.com/javase/8/docs/technotes/guides/vm/gctuning/cms.html\">',\n",
       " '<a href=\"https://docs.python.org/2.7/glossary.html#term-eafp\" rel=\"noreferrer\">',\n",
       " '<a href=\"https://docs.python.org/2.7/glossary.html#term-lbyl\" rel=\"noreferrer\">',\n",
       " '<a href=\"https://en.wikipedia.org/wiki/Base64\" rel=\"noreferrer\">',\n",
       " '<a href=\"https://en.wikipedia.org/wiki/Brute-force_attack\" rel=\"nofollow noreferrer\">',\n",
       " '<a href=\"https://en.wikipedia.org/wiki/Dictionary_attack\" rel=\"nofollow noreferrer\">',\n",
       " '<a href=\"https://en.wikipedia.org/wiki/Don&#39;t_repeat_yourself\" rel=\"noreferrer\">',\n",
       " '<a href=\"https://en.wikipedia.org/wiki/Geocoding\" rel=\"noreferrer\">',\n",
       " '<a href=\"https://en.wikipedia.org/wiki/Heisenbug\" rel=\"noreferrer\">',\n",
       " '<a href=\"https://en.wikipedia.org/wiki/Pointy-haired_Boss\" rel=\"noreferrer\">',\n",
       " '<a href=\"https://en.wikipedia.org/wiki/Python_(programming_language)\" rel=\"noreferrer\">',\n",
       " '<a href=\"https://en.wikipedia.org/wiki/VCard\" rel=\"noreferrer\">',\n",
       " '<a href=\"https://github.com/MagoMatematico/Fonetico\" rel=\"noreferrer\">',\n",
       " '<a href=\"https://github.com/Wildhoney/ReactShadow\" rel=\"noreferrer\">',\n",
       " '<a href=\"https://github.com/darkskyapp/skycons\">',\n",
       " '<a href=\"https://github.com/hhatto/nude.py\" rel=\"noreferrer\">',\n",
       " '<a href=\"https://github.com/jeremeamia/super_closure/blob/master/src/SerializableClosure.php\" rel=\"noreferrer\">',\n",
       " '<a href=\"https://github.com/laravel/laravel/blob/3.0/laravel/view.php\" rel=\"noreferrer\">',\n",
       " '<a href=\"https://github.com/quicoli/Fonetiza\" rel=\"noreferrer\">',\n",
       " '<a href=\"https://github.com/timotta/elasticsearch-fonetica-portuguesa\" rel=\"noreferrer\">',\n",
       " '<a href=\"https://github.com/walling/unorm\" rel=\"noreferrer\">',\n",
       " '<a href=\"https://i.stack.imgur.com/2XED1.png\" rel=\"noreferrer\">',\n",
       " '<a href=\"https://i.stack.imgur.com/6KljV.png\" rel=\"noreferrer\">',\n",
       " '<a href=\"https://i.stack.imgur.com/AVq5w.png\" rel=\"noreferrer\">',\n",
       " '<a href=\"https://i.stack.imgur.com/ErRG6.png\" rel=\"noreferrer\">',\n",
       " '<a href=\"https://i.stack.imgur.com/IAk7X.png\" rel=\"noreferrer\">',\n",
       " '<a href=\"https://i.stack.imgur.com/N16Tl.png\" rel=\"noreferrer\">',\n",
       " '<a href=\"https://i.stack.imgur.com/OWW0P.png\" rel=\"noreferrer\">',\n",
       " '<a href=\"https://i.stack.imgur.com/QvQBs.png\" rel=\"noreferrer\">',\n",
       " '<a href=\"https://i.stack.imgur.com/QwqbE.png\" rel=\"noreferrer\">',\n",
       " '<a href=\"https://i.stack.imgur.com/VcoQ5.png\" rel=\"noreferrer\">',\n",
       " '<a href=\"https://i.stack.imgur.com/cVWub.gif\" rel=\"noreferrer\">',\n",
       " '<a href=\"https://i.stack.imgur.com/oha7F.jpg\" rel=\"noreferrer\">',\n",
       " '<a href=\"https://i.stack.imgur.com/reC5P.png\" rel=\"nofollow noreferrer\">',\n",
       " '<a href=\"https://i.stack.imgur.com/sl8qI.jpg\" rel=\"noreferrer\">',\n",
       " '<a href=\"https://i.stack.imgur.com/sqldb.png\" rel=\"noreferrer\">',\n",
       " '<a href=\"https://i.stack.imgur.com/yiA5Y.png\" rel=\"noreferrer\">',\n",
       " '<a href=\"https://i.stack.imgur.com/zazlZ.png\" rel=\"noreferrer\">',\n",
       " '<a href=\"https://igorescobar.github.io/jQuery-Mask-Plugin/docs.html\" rel=\"noreferrer\">',\n",
       " '<a href=\"https://jwt.io/\">',\n",
       " '<a href=\"https://msdn.microsoft.com/en-us/library/system.web.http.odata.delta.aspx\">',\n",
       " '<a href=\"https://pt.meta.stackoverflow.com/q/1376/101\">',\n",
       " '<a href=\"https://pt.meta.stackoverflow.com/q/2597/101\">',\n",
       " '<a href=\"https://pt.stackoverflow.com/a/11380/227\">',\n",
       " '<a href=\"https://pt.stackoverflow.com/a/118633/64969\">',\n",
       " '<a href=\"https://pt.stackoverflow.com/a/12737\">',\n",
       " '<a href=\"https://pt.stackoverflow.com/a/210285/4995\">',\n",
       " '<a href=\"https://pt.stackoverflow.com/a/50167/4995\">',\n",
       " '<a href=\"https://pt.stackoverflow.com/a/6773/14213\">',\n",
       " '<a href=\"https://pt.stackoverflow.com/a/7741/1589\">',\n",
       " '<a href=\"https://pt.stackoverflow.com/a/7742/1589\">',\n",
       " '<a href=\"https://pt.stackoverflow.com/q/11378/227\">',\n",
       " '<a href=\"https://pt.stackoverflow.com/q/159342/64969\">',\n",
       " '<a href=\"https://pt.stackoverflow.com/q/16496/215\">',\n",
       " '<a href=\"https://pt.stackoverflow.com/q/16555/101\">',\n",
       " '<a href=\"https://pt.stackoverflow.com/q/17082/7261\">',\n",
       " '<a href=\"https://pt.stackoverflow.com/q/1761/215\">',\n",
       " '<a href=\"https://pt.stackoverflow.com/q/18860/101\">',\n",
       " '<a href=\"https://pt.stackoverflow.com/q/207775/4995\">',\n",
       " '<a href=\"https://pt.stackoverflow.com/q/208859/4995\">',\n",
       " '<a href=\"https://pt.stackoverflow.com/q/21767/215\">',\n",
       " '<a href=\"https://pt.stackoverflow.com/q/22647/7261\">',\n",
       " '<a href=\"https://pt.stackoverflow.com/q/25403/101\">',\n",
       " '<a href=\"https://pt.stackoverflow.com/q/27177/129\">',\n",
       " '<a href=\"https://pt.stackoverflow.com/q/43902/101\">',\n",
       " '<a href=\"https://pt.stackoverflow.com/q/55332/101\">',\n",
       " '<a href=\"https://pt.stackoverflow.com/q/6776/215\">',\n",
       " '<a href=\"https://pt.stackoverflow.com/q/68899/101\">',\n",
       " '<a href=\"https://pt.stackoverflow.com/q/73530/101\">',\n",
       " '<a href=\"https://pt.stackoverflow.com/q/8679/215\">',\n",
       " '<a href=\"https://pt.stackoverflow.com/q/90363/101\">',\n",
       " '<a href=\"https://pt.stackoverflow.com/q/9580/215\">',\n",
       " '<a href=\"https://pt.stackoverflow.com/questions/104656/algoritmo-para-detectar-nudez-com-boa-precis%C3%A3o\">',\n",
       " '<a href=\"https://pt.stackoverflow.com/questions/112076/passar-par%C3%A2metros-de-forma-pyth%C3%B4nica\">',\n",
       " '<a href=\"https://pt.stackoverflow.com/questions/13890/como-escrever-um-c%C3%B3digo-leg%C3%ADvel-e-de-f%C3%A1cil-manuten%C3%A7%C3%A3o\">',\n",
       " '<a href=\"https://pt.stackoverflow.com/questions/14490/alocacao-de-memoria-em-c-tipos-valor-e-tipos-referencia\">',\n",
       " '<a href=\"https://pt.stackoverflow.com/questions/16921/como-realmente-aprender-a-usar-promessas-em-javascript\">',\n",
       " '<a href=\"https://pt.stackoverflow.com/questions/17082/o-que-%C3%A9-uma-linguagem-de-script\">',\n",
       " '<a href=\"https://pt.stackoverflow.com/questions/17082/o-que-%C3%A9-uma-linguagem-de-script#comment32212_17082\">',\n",
       " '<a href=\"https://pt.stackoverflow.com/questions/211354/\">',\n",
       " '<a href=\"https://pt.stackoverflow.com/questions/211394/o-que-%C3%A9-controle-de-concorr%C3%AAncia\">',\n",
       " '<a href=\"https://pt.stackoverflow.com/questions/228220/o-que-s%C3%A3o-path-parameters-em-uma-uri\">',\n",
       " '<a href=\"https://pt.stackoverflow.com/questions/2413/fun%C3%A7%C3%B5es-de-primeira-classe-por-que-tipos-de-entrada-devem-ser-contravariantes\">',\n",
       " '<a href=\"https://pt.stackoverflow.com/questions/3274/quando-usar-waterfall-e-quando-usar-scrum\">',\n",
       " '<a href=\"https://pt.stackoverflow.com/questions/3911/porque-devemos-usar-anonymous-functions-com-jquery-ao-inves-da-funcao-diretament\">',\n",
       " '<a href=\"https://pt.stackoverflow.com/questions/39875/qual-a-prioridade-do-html-id-ou-class\">',\n",
       " '<a href=\"https://pt.stackoverflow.com/questions/3994/como-fazer-uma-busca-ignorando-acentuacao-em-javascript/4002#comment6047_4002\">',\n",
       " '<a href=\"https://pt.stackoverflow.com/questions/400\">',\n",
       " '<a href=\"https://pt.stackoverflow.com/questions/50166/qual-a-fun%C3%A7%C3%A3o-do-no-inicio-de-express%C3%B5es-em-php/50167#50167\">',\n",
       " '<a href=\"https://pt.stackoverflow.com/questions/72143/entendendo-o-modo-pyth%C3%B4nico-de-lidar-com-propriedades\">',\n",
       " '<a href=\"https://pt.stackoverflow.com/questions/7740/o-que-o-c-pode-fazer-que-o-c-n%C3%A3o-pode/18811#18811\">',\n",
       " '<a href=\"https://pt.stackoverflow.com/search?q=Jantar+dos+fil%C3%B3sofos\">',\n",
       " '<a href=\"https://pt.stackoverflow.com/users/101/bigown\">',\n",
       " '<a href=\"https://pt.stackoverflow.com/users/227/utluiz\">',\n",
       " '<a href=\"https://pt.stackoverflow.com/users/41731/andr%c3%a9-lfs-bacci\">',\n",
       " '<a href=\"https://pt.stackoverflow.com/users/70/bacco\">',\n",
       " '<a href=\"https://pt.stackoverflow.com/users/91/rray\">',\n",
       " '<a href=\"https://pt.wikipedia.org/wiki/C%C3%B3digo_de_Endere%C3%A7amento_Postal\" rel=\"noreferrer\">',\n",
       " '<a href=\"https://pt.wikipedia.org/wiki/CKAN\" rel=\"noreferrer\">',\n",
       " '<a href=\"https://pt.wikipedia.org/wiki/CPF\" rel=\"noreferrer\">',\n",
       " '<a href=\"https://pt.wikipedia.org/wiki/Crivo_de_Erat%C3%B3stenes\" rel=\"noreferrer\">',\n",
       " '<a href=\"https://pt.wikipedia.org/wiki/Dados\">',\n",
       " '<a href=\"https://pt.wikipedia.org/wiki/Intelig%C3%AAncia_artificial\">',\n",
       " '<a href=\"https://pt.wikipedia.org/wiki/Linguagem_livre_de_contexto\" rel=\"noreferrer\">',\n",
       " '<a href=\"https://pt.wikipedia.org/wiki/POV-Ray\">',\n",
       " '<a href=\"https://pt.wikipedia.org/wiki/Padr%C3%A3o_de_projeto_de_software\">',\n",
       " '<a href=\"https://pt.wikipedia.org/wiki/Pessoa_(direito)\" rel=\"noreferrer\">',\n",
       " '<a href=\"https://pt.wikipedia.org/wiki/Pessoa_jur%C3%ADdica\" rel=\"noreferrer\">',\n",
       " '<a href=\"https://pt.wikipedia.org/wiki/Problema_da_parada\" rel=\"noreferrer\">',\n",
       " '<a href=\"https://security.stackexchange.com/q/37487/6939\">',\n",
       " '<a href=\"https://stackoverflow.com/\">',\n",
       " '<a href=\"https://stackoverflow.com/a/11929037/1244639\">',\n",
       " '<a href=\"https://stackoverflow.com/a/15302285/664577\">',\n",
       " '<a href=\"https://stackoverflow.com/a/322742\">',\n",
       " '<a href=\"https://stackoverflow.com/a/3541425/664577\">',\n",
       " '<a href=\"https://stackoverflow.com/a/9441795/2241463\">',\n",
       " '<a href=\"https://stackoverflow.com/q/10120761/1287812\">',\n",
       " '<a href=\"https://stackoverflow.com/q/16138232/520779\">',\n",
       " '<a href=\"https://stackoverflow.com/q/165455/221800\">',\n",
       " '<a href=\"https://stackoverflow.com/q/2382329/520779\">',\n",
       " '<a href=\"https://stackoverflow.com/q/354038/520779\">',\n",
       " '<a href=\"https://stackoverflow.com/q/3593420/1964435\">',\n",
       " '<a href=\"https://stackoverflow.com/q/503218/221800\">',\n",
       " '<a href=\"https://stackoverflow.com/q/521349/221800\">',\n",
       " '<a href=\"https://stackoverflow.com/q/7604636/520779\">',\n",
       " '<a href=\"https://stackoverflow.com/q/7772553/520779\">',\n",
       " '<a href=\"https://stackoverflow.com/q/931872/352449\">',\n",
       " '<a href=\"https://stackoverflow.com/questions/11227809/why-is-processing-a-sorted-array-faster-than-an-unsorted-array\">',\n",
       " '<a href=\"https://stackoverflow.com/questions/15051018/localized-collate-on-a-sqlite-string-comparison\">',\n",
       " '<a href=\"https://stackoverflow.com/questions/16806570/how-do-i-compare-characters-in-custom-sqlite-collation-in-objective-c\">',\n",
       " '<a href=\"https://stackoverflow.com/questions/2392732/sqlite-python-unicode-and-non-utf-data\">',\n",
       " '<a href=\"https://stackoverflow.com/questions/26411655/pattern-or-best-practice-for-a-simple-socket-client-app-possibly-chat\">',\n",
       " '<a href=\"https://stackoverflow.com/questions/38875/best-way-to-avoid-code-injection-in-php\">',\n",
       " '<a href=\"https://stackoverflow.com/questions/601300/what-is-sql-injection\">',\n",
       " '<a href=\"https://stackoverflow.com/questions/7575085/creating-meta-language-with-java\">',\n",
       " '<a href=\"https://stackoverflow.com/questions/9118273/using-only-utf8-encoding-in-sqlite-what-can-i-trim-out-of-the-icu-dataset\">',\n",
       " '<a href=\"https://stackoverflow.com/questions/973541/how-to-set-sqlite3-to-be-case-insensitive-when-string-comparing?lq=1\">',\n",
       " '<a href=\"https://superuser.com/a/416277/166021\">',\n",
       " '<a href=\"https://tableless.com.br/tenha-o-dom/\" rel=\"noreferrer\">',\n",
       " '<a href=\"https://tools.ietf.org/html/rfc3986\" rel=\"noreferrer\">',\n",
       " '<a href=\"https://tools.ietf.org/html/rfc3986#section-3.3\" rel=\"noreferrer\">',\n",
       " '<a href=\"https://tools.ietf.org/html/rfc7230\" rel=\"noreferrer\">',\n",
       " '<a href=\"https://ux.stackexchange.com/a/33998/15436\">',\n",
       " '<a href=\"https://ux.stackexchange.com/q/33986/15436\">',\n",
       " '<a href=\"https://ux.stackexchange.com/q/35753/1490\">',\n",
       " '<a href=\"https://www.brasil.gov.br/\" rel=\"noreferrer\">',\n",
       " '<a href=\"https://www.funai.gov.br/\" rel=\"noreferrer\">',\n",
       " '<a href=\"https://www.google.com.br/search?client=ubuntu&amp;channel=fs&amp;q=set+interval+is+bad&amp;ie=utf-8&amp;oe=utf-8&amp;gfe_rd=cr&amp;ei=uPfyVZDeFczI8AfZm4HADg\" rel=\"noreferrer\">',\n",
       " '<a href=\"https://www.google.com/recaptcha/\" rel=\"noreferrer\">',\n",
       " '<a href=\"https://www.ibama.gov.br/\" rel=\"noreferrer\">',\n",
       " '<a href=\"https://www.ibge.gov.br/\" rel=\"noreferrer\">',\n",
       " '<a href=\"https://www.jqwidgets.com/jquery-widgets-demo/demos/jqxsplitter/index.htm#demos/jqxsplitter/defaultfunctionality.htm\">',\n",
       " '<a href=\"https://www.labcenter.com/\" rel=\"noreferrer\">',\n",
       " '<a href=\"https://www.oficinadanet.com.br/artigo/447/o_que_e_web_service\">',\n",
       " '<a href=\"https://www.owasp.org/index.php/HTML5_Security_Cheat_Sheet#Storage_APIs\" rel=\"nofollow noreferrer\">',\n",
       " '<a href=\"https://www.priberam.pt/DLPO/capicua\" rel=\"noreferrer\">',\n",
       " '<a href=\"https://www.senado.gov.br/\" rel=\"noreferrer\">',\n",
       " '<a href=\"https://www.w3schools.com/sql/sql_distinct.asp\" rel=\"noreferrer\">',\n",
       " '<a href=\"https://www.w3schools.com/sql/sql_groupby.asp\" rel=\"noreferrer\">',\n",
       " '<a href=\"https://www.w3schools.com/tags/tag_datalist.asp\" rel=\"noreferrer\">',\n",
       " '<a href=\"https://www.youtube.com/watch?v=9J7GpVQCfms\">',\n",
       " '<b>',\n",
       " '<blockquote>',\n",
       " '<br/>',\n",
       " '<br>',\n",
       " '<code>',\n",
       " '<div class=\"snippet\" data-lang=\"js\" data-hide=\"false\" data-console=\"false\" data-babel=\"false\">',\n",
       " '<div class=\"snippet\" data-lang=\"js\" data-hide=\"false\" data-console=\"true\" data-babel=\"false\">',\n",
       " '<div class=\"snippet\" data-lang=\"js\" data-hide=\"false\">',\n",
       " '<div class=\"snippet\" data-lang=\"js\" data-hide=\"true\" data-console=\"false\" data-babel=\"false\">',\n",
       " '<div class=\"snippet\" data-lang=\"js\" data-hide=\"true\">',\n",
       " '<div class=\"snippet-code snippet-currently-hidden\">',\n",
       " '<div class=\"snippet-code\">',\n",
       " '<em>',\n",
       " '<h1>',\n",
       " '<h2>',\n",
       " '<h3>',\n",
       " '<hr>',\n",
       " '<i>',\n",
       " '<img src=\"https://i.stack.imgur.com/2MjvH.png\" >',\n",
       " '<img src=\"https://i.stack.imgur.com/2XED1.png\" alt=\"Shadow DOM no Chrome\">',\n",
       " '<img src=\"https://i.stack.imgur.com/3ryxb.jpg\" alt=\"Um tabuleiro de xadrez com apenas duas peças: uma verde na posição 6G e uma vermelha na posição 4C\">',\n",
       " '<img src=\"https://i.stack.imgur.com/6KljV.png\" alt=\"Numero 1\">',\n",
       " '<img src=\"https://i.stack.imgur.com/6aNIN.gif\" alt=\"inserir a descrição da imagem aqui\">',\n",
       " '<img src=\"https://i.stack.imgur.com/AVq5w.png\" alt=\"Matriz de Pixels\">',\n",
       " '<img src=\"https://i.stack.imgur.com/AXmT6.png\" alt=\"diagrama .NET Core\">',\n",
       " '<img src=\"https://i.stack.imgur.com/D7i0G.png\" alt=\"exemplo com charset=iso-8859-1\">',\n",
       " '<img src=\"https://i.stack.imgur.com/ErRG6.png\" alt=\"inserir a descrição da imagem aqui\">',\n",
       " '<img src=\"https://i.stack.imgur.com/HstIem.png\" alt=\"\">',\n",
       " '<img src=\"https://i.stack.imgur.com/IAk7X.png\" alt=\"Analise de imagem com nudepy\">',\n",
       " '<img src=\"https://i.stack.imgur.com/IJKhi.jpg\" alt=\"logic Software\">',\n",
       " '<img src=\"https://i.stack.imgur.com/LHz7Z.jpg\" alt=\"A mesma imagem anterior com dois caminhos enumerados com 1 e 2 respectivamente, um indo da posição da peça vermelha até a posição 5E e outra indo da 5E até a posição da peça verde\">',\n",
       " '<img src=\"https://i.stack.imgur.com/N16Tl.png\" alt=\"2 hours of SPA navigation graph\">',\n",
       " '<img src=\"https://i.stack.imgur.com/OWW0P.png\" alt=\"inserir a descrição da imagem aqui\">',\n",
       " '<img src=\"https://i.stack.imgur.com/QvQBs.png\" alt=\"inserir a descrição da imagem aqui\">',\n",
       " '<img src=\"https://i.stack.imgur.com/QwqbE.png\" alt=\"matriz\">',\n",
       " '<img src=\"https://i.stack.imgur.com/Sk7QO.png\" alt=\"Lista de funções do SDK fornecido\">',\n",
       " '<img src=\"https://i.stack.imgur.com/VcoQ5.png\" alt=\"Paleta de cores de pele\">',\n",
       " '<img src=\"https://i.stack.imgur.com/b6wiK.jpg\" alt=\"\">',\n",
       " '<img src=\"https://i.stack.imgur.com/bCs0B.png\" alt=\"inserir a descrição da imagem aqui\">',\n",
       " '<img src=\"https://i.stack.imgur.com/li75I.png\" alt=\"inserir a descrição da imagem aqui\">',\n",
       " '<img src=\"https://i.stack.imgur.com/oha7F.jpg\" alt=\"Minka Kelly\">',\n",
       " '<img src=\"https://i.stack.imgur.com/qZRPJ.png\" alt=\"inserir a descrição da imagem aqui\">',\n",
       " '<img src=\"https://i.stack.imgur.com/reC5P.png\" alt=\"inserir a descrição da imagem aqui\">',\n",
       " '<img src=\"https://i.stack.imgur.com/sl8qI.jpg\" alt=\"objetos\">',\n",
       " '<img src=\"https://i.stack.imgur.com/sqldb.png\" alt=\"inserir a descrição da imagem aqui\">',\n",
       " '<img src=\"https://i.stack.imgur.com/u5uBW.png\" alt=\"Imagem do  Google Chrome indicando o nome Payload\" >',\n",
       " '<img src=\"https://i.stack.imgur.com/uqlJl.jpg\" alt=\"inserir a descrição da imagem aqui\">',\n",
       " '<img src=\"https://i.stack.imgur.com/yiA5Y.png\" alt=\"Numero 2\">',\n",
       " '<img src=\"https://i.stack.imgur.com/ypnrp.png\" alt=\"exemplo com charset=utf-8\">',\n",
       " '<img src=\"https://i.stack.imgur.com/zazlZ.png\" alt=\"inserir a descrição da imagem aqui\">',\n",
       " '<kbd>',\n",
       " '<li>',\n",
       " '<ol start=\"2\">',\n",
       " '<ol>',\n",
       " '<p>',\n",
       " '<pre class=\"lang-c prettyprint-override\">',\n",
       " '<pre class=\"lang-c++ prettyprint-override\">',\n",
       " '<pre class=\"lang-cs prettyprint-override\">',\n",
       " '<pre class=\"lang-css prettyprint-override\">',\n",
       " '<pre class=\"lang-htaccess prettyprint-override\">',\n",
       " '<pre class=\"lang-html prettyprint-override\">',\n",
       " '<pre class=\"lang-java prettyprint-override\">',\n",
       " '<pre class=\"lang-javascript prettyprint-override\">',\n",
       " '<pre class=\"lang-js prettyprint-override\">',\n",
       " '<pre class=\"lang-pascal prettyprint-override\">',\n",
       " '<pre class=\"lang-php prettyprint-override\">',\n",
       " '<pre class=\"lang-ruby prettyprint-override\">',\n",
       " '<pre class=\"lang-sql prettyprint-override\">',\n",
       " '<pre class=\"snippet-code-css lang-css prettyprint-override\">',\n",
       " '<pre class=\"snippet-code-html lang-html prettyprint-override\">',\n",
       " '<pre class=\"snippet-code-js lang-js prettyprint-override\">',\n",
       " '<pre>',\n",
       " '<strong>',\n",
       " '<sub>',\n",
       " '<sup>',\n",
       " '<ul>'}"
      ]
     },
     "execution_count": 6,
     "metadata": {},
     "output_type": "execute_result"
    }
   ],
   "source": [
    "sets_list = dados_portugues['Questão'].apply(lambda x : set(re.findall(r'<.*?>', x)))\n",
    "tags_sets = set()\n",
    "for _set in sets_list:\n",
    "    tags_sets = tags_sets.union(_set)\n",
    "tags_sets"
   ]
  },
  {
   "cell_type": "markdown",
   "metadata": {},
   "source": [
    "## Compile\n",
    "Creating a REGEX object to apply filters"
   ]
  },
  {
   "cell_type": "code",
   "execution_count": 8,
   "metadata": {},
   "outputs": [
    {
     "data": {
      "text/plain": [
       "re.compile(r'<code>(.|(\\n))*?</code>', re.IGNORECASE|re.UNICODE)"
      ]
     },
     "execution_count": 8,
     "metadata": {},
     "output_type": "execute_result"
    }
   ],
   "source": [
    "tags_filter = re.compile(r'<.*?>', 2)\n",
    "tags_filter\n",
    "\n",
    "code_regex = re.compile(r'<code>(.|(\\n))*?</code>', 2)\n",
    "code_regex\n",
    "\n",
    "punctuation_regex = re.compile(r'[^ \\w]', 2)\n",
    "punctuation_regex\n",
    "\n",
    "number_regex = re.compile(r'\\d+', 2)\n",
    "number_regex\n",
    "\n",
    "spaces_regex = re.compile(r'\\s+', 2)\n",
    "spaces_regex"
   ]
  },
  {
   "cell_type": "code",
   "execution_count": 12,
   "metadata": {},
   "outputs": [],
   "source": [
    "dados_portugues['Questão Limpa'] = dados_portugues['Questão'].apply(lambda x : code_regex.sub('', x))\n",
    "dados_portugues['Questão Limpa'] = dados_portugues['Questão Limpa'].apply(lambda x : tags_filter.sub('', x))\n",
    "dados_portugues['Questão Limpa'] = dados_portugues['Questão Limpa'].apply(lambda x : punctuation_regex.sub(' ', x))\n",
    "dados_portugues['Questão Limpa'] = dados_portugues['Questão Limpa'].apply(lambda x : number_regex.sub(' ', x))\n",
    "dados_portugues['Questão Limpa'] = dados_portugues['Questão Limpa'].apply(lambda x : x.lower())\n",
    "dados_portugues['Questão Limpa'] = dados_portugues['Questão Limpa'].apply(lambda x : spaces_regex.sub(' ', x))"
   ]
  },
  {
   "cell_type": "code",
   "execution_count": 13,
   "metadata": {},
   "outputs": [],
   "source": [
    "dados_ingles['Questão Limpa'] = dados_ingles['Questão'].apply(lambda x : code_regex.sub('', x))\n",
    "dados_ingles['Questão Limpa'] = dados_ingles['Questão Limpa'].apply(lambda x : tags_filter.sub('', x))\n",
    "dados_ingles['Questão Limpa'] = dados_ingles['Questão Limpa'].apply(lambda x : punctuation_regex.sub(' ', x))\n",
    "dados_ingles['Questão Limpa'] = dados_ingles['Questão Limpa'].apply(lambda x : number_regex.sub(' ', x))\n",
    "dados_ingles['Questão Limpa'] = dados_ingles['Questão Limpa'].apply(lambda x : x.lower())\n",
    "dados_ingles['Questão Limpa'] = dados_ingles['Questão Limpa'].apply(lambda x : spaces_regex.sub(' ', x))"
   ]
  },
  {
   "cell_type": "code",
   "execution_count": 14,
   "metadata": {},
   "outputs": [],
   "source": [
    "dados_espanhol['Questão Limpa'] = dados_espanhol['Questão'].apply(lambda x : code_regex.sub('', x))\n",
    "dados_espanhol['Questão Limpa'] = dados_espanhol['Questão Limpa'].apply(lambda x : tags_filter.sub('', x))\n",
    "dados_espanhol['Questão Limpa'] = dados_espanhol['Questão Limpa'].apply(lambda x : punctuation_regex.sub(' ', x))\n",
    "dados_espanhol['Questão Limpa'] = dados_espanhol['Questão Limpa'].apply(lambda x : number_regex.sub(' ', x))\n",
    "dados_espanhol['Questão Limpa'] = dados_espanhol['Questão Limpa'].apply(lambda x : x.lower())\n",
    "dados_espanhol['Questão Limpa'] = dados_espanhol['Questão Limpa'].apply(lambda x : spaces_regex.sub(' ', x))"
   ]
  },
  {
   "cell_type": "code",
   "execution_count": 15,
   "metadata": {},
   "outputs": [
    {
     "data": {
      "text/plain": [
       "'las sentencias dinámicas son sentencias sql que se crean como cadenas de texto strings y en las que se insertan concatenan valores obtenidos de alguna fuente normalmente proveniente del usuario lo que puede hacer que sean vulnerables a inyección sql si no se sanean las entradas como por ejemplo eso es un ejemplo de una vulnerabilidad grave en la seguridad de una aplicación web o no porque si el usuario introdujese un valor como nos encontraríamos con que la sentencia ejecutada sería y se eliminaría la tabla usuarios con todos los datos contenidos en ella cómo puedo evitar que la inyección sql ocurra en php '"
      ]
     },
     "execution_count": 15,
     "metadata": {},
     "output_type": "execute_result"
    }
   ],
   "source": [
    "dados_espanhol['Questão Limpa'][0]"
   ]
  },
  {
   "cell_type": "markdown",
   "metadata": {},
   "source": [
    "# Modelos de Linguagem"
   ]
  },
  {
   "cell_type": "code",
   "execution_count": 16,
   "metadata": {},
   "outputs": [],
   "source": [
    "import nltk"
   ]
  },
  {
   "cell_type": "markdown",
   "metadata": {},
   "source": [
    "A probilidade calculada depende apenas do passado recente e quer calcular a probabilidade da próxima palavra"
   ]
  },
  {
   "cell_type": "code",
   "execution_count": 20,
   "metadata": {},
   "outputs": [],
   "source": [
    "from nltk.util import bigrams"
   ]
  },
  {
   "cell_type": "code",
   "execution_count": 18,
   "metadata": {},
   "outputs": [],
   "source": [
    "texto_teste = 'alura'"
   ]
  },
  {
   "cell_type": "code",
   "execution_count": 19,
   "metadata": {},
   "outputs": [
    {
     "name": "stdout",
     "output_type": "stream",
     "text": [
      "[('a', 'l'), ('l', 'u'), ('u', 'r'), ('r', 'a')]\n"
     ]
    }
   ],
   "source": [
    "print(list(bigrams(texto_teste)))"
   ]
  },
  {
   "cell_type": "code",
   "execution_count": 18,
   "metadata": {},
   "outputs": [],
   "source": [
    "from nltk.lm.preprocessing import pad_both_ends"
   ]
  },
  {
   "cell_type": "code",
   "execution_count": 21,
   "metadata": {},
   "outputs": [
    {
     "name": "stdout",
     "output_type": "stream",
     "text": [
      "[('<s>', 'a'), ('a', 'l'), ('l', 'u'), ('u', 'r'), ('r', 'a'), ('a', '</s>')]\n"
     ]
    }
   ],
   "source": [
    "print(list(bigrams(pad_both_ends(texto_teste, 2))))"
   ]
  },
  {
   "cell_type": "code",
   "execution_count": 22,
   "metadata": {},
   "outputs": [],
   "source": [
    "dados_portugues['idioma'] = 'pt'\n",
    "dados_ingles['idioma'] = 'en'\n",
    "dados_espanhol['idioma'] = 'esp'"
   ]
  },
  {
   "cell_type": "code",
   "execution_count": 25,
   "metadata": {},
   "outputs": [],
   "source": [
    "from sklearn.model_selection import train_test_split\n",
    "\n",
    "pt_treino, pt_teste = train_test_split(\n",
    "    dados_portugues['Questão Limpa'],\n",
    "    test_size=0.2,\n",
    "    random_state=422)"
   ]
  },
  {
   "cell_type": "code",
   "execution_count": 26,
   "metadata": {},
   "outputs": [
    {
     "data": {
      "text/plain": [
       "0      se eu fizer o hash de senhas antes de armazená...\n",
       "1      qual é a diferença entre e podem me dar alguns...\n",
       "2      uma dúvida muito comum é por que devemos parar...\n",
       "3      é comum encontrar uma mensagem de erro que diz...\n",
       "4      me parecem termos muito próximos e eventualmen...\n",
       "                             ...                        \n",
       "495    já vi esse termo polyfill sendo utilizado vári...\n",
       "496    esses dias me deparei com um trecho de um sql ...\n",
       "497    por vezes vejo em documentações ou especificaç...\n",
       "498    na especificação do protocolo http mais precis...\n",
       "499    eu preciso fazer o upload de uma foto e em seg...\n",
       "Name: Questão Limpa, Length: 500, dtype: object"
      ]
     },
     "execution_count": 26,
     "metadata": {},
     "output_type": "execute_result"
    }
   ],
   "source": [
    "dados_portugues['Questão Limpa']"
   ]
  },
  {
   "cell_type": "code",
   "execution_count": 27,
   "metadata": {},
   "outputs": [],
   "source": [
    "texto_pt = ' '.join(dados_portugues['Questão Limpa'])"
   ]
  },
  {
   "cell_type": "code",
   "execution_count": 28,
   "metadata": {},
   "outputs": [],
   "source": [
    "tokens_pt = texto_pt.split()"
   ]
  },
  {
   "cell_type": "code",
   "execution_count": 29,
   "metadata": {},
   "outputs": [
    {
     "data": {
      "text/plain": [
       "['se',\n",
       " 'eu',\n",
       " 'fizer',\n",
       " 'o',\n",
       " 'hash',\n",
       " 'de',\n",
       " 'senhas',\n",
       " 'antes',\n",
       " 'de',\n",
       " 'armazená',\n",
       " 'las',\n",
       " 'em',\n",
       " 'meu',\n",
       " 'banco',\n",
       " 'de',\n",
       " 'dados',\n",
       " 'é',\n",
       " 'suficiente',\n",
       " 'para',\n",
       " 'evitar',\n",
       " 'que',\n",
       " 'elas',\n",
       " 'sejam',\n",
       " 'recuperadas',\n",
       " 'por',\n",
       " 'alguém',\n",
       " 'estou',\n",
       " 'falando',\n",
       " 'apenas',\n",
       " 'da',\n",
       " 'recuperação',\n",
       " 'diretamente',\n",
       " 'do',\n",
       " 'banco',\n",
       " 'de',\n",
       " 'dados',\n",
       " 'e',\n",
       " 'não',\n",
       " 'qualquer',\n",
       " 'outro',\n",
       " 'tipo',\n",
       " 'de',\n",
       " 'ataque',\n",
       " 'como',\n",
       " 'força',\n",
       " 'bruta',\n",
       " 'na',\n",
       " 'página',\n",
       " 'de',\n",
       " 'login',\n",
       " 'da',\n",
       " 'aplicação',\n",
       " 'keylogger',\n",
       " 'no',\n",
       " 'cliente',\n",
       " 'e',\n",
       " 'criptoanálise',\n",
       " 'rubberhose',\n",
       " 'qualquer',\n",
       " 'forma',\n",
       " 'de',\n",
       " 'hash',\n",
       " 'não',\n",
       " 'vai',\n",
       " 'impedir',\n",
       " 'esses',\n",
       " 'ataques',\n",
       " 'tenho',\n",
       " 'preocupação',\n",
       " 'em',\n",
       " 'dificultar',\n",
       " 'ou',\n",
       " 'até',\n",
       " 'impossibilitar',\n",
       " 'a',\n",
       " 'obtenção',\n",
       " 'das',\n",
       " 'senhas',\n",
       " 'originais',\n",
       " 'caso',\n",
       " 'o',\n",
       " 'banco',\n",
       " 'de',\n",
       " 'dados',\n",
       " 'seja',\n",
       " 'comprometido',\n",
       " 'como',\n",
       " 'dar',\n",
       " 'maior',\n",
       " 'garantia',\n",
       " 'de',\n",
       " 'segurança',\n",
       " 'neste',\n",
       " 'aspecto',\n",
       " 'quais',\n",
       " 'preocupações',\n",
       " 'adicionais',\n",
       " 'evitariam',\n",
       " 'o',\n",
       " 'acesso',\n",
       " 'às',\n",
       " 'senhas',\n",
       " 'existem',\n",
       " 'formas',\n",
       " 'melhores',\n",
       " 'de',\n",
       " 'fazer',\n",
       " 'esse',\n",
       " 'hash',\n",
       " 'qual',\n",
       " 'é',\n",
       " 'a',\n",
       " 'diferença',\n",
       " 'entre',\n",
       " 'e',\n",
       " 'podem',\n",
       " 'me',\n",
       " 'dar',\n",
       " 'alguns',\n",
       " 'exemplos',\n",
       " 'uma',\n",
       " 'dúvida',\n",
       " 'muito',\n",
       " 'comum',\n",
       " 'é',\n",
       " 'por',\n",
       " 'que',\n",
       " 'devemos',\n",
       " 'parar',\n",
       " 'de',\n",
       " 'usar',\n",
       " 'funções',\n",
       " 'do',\n",
       " 'tipo',\n",
       " 'mysql_',\n",
       " 'por',\n",
       " 'exemplo',\n",
       " 'ou',\n",
       " 'vejo',\n",
       " 'que',\n",
       " 'muitas',\n",
       " 'pessoas',\n",
       " 'as',\n",
       " 'usam',\n",
       " 'ou',\n",
       " 'param',\n",
       " 'de',\n",
       " 'usar',\n",
       " 'mas',\n",
       " 'não',\n",
       " 'sabem',\n",
       " 'o',\n",
       " 'real',\n",
       " 'motivo',\n",
       " 'por',\n",
       " 'que',\n",
       " 'elas',\n",
       " 'deveriam',\n",
       " 'parar',\n",
       " 'de',\n",
       " 'ser',\n",
       " 'usadas',\n",
       " 'uma',\n",
       " 'vez',\n",
       " 'que',\n",
       " 'funcionam',\n",
       " 'é',\n",
       " 'comum',\n",
       " 'encontrar',\n",
       " 'uma',\n",
       " 'mensagem',\n",
       " 'de',\n",
       " 'erro',\n",
       " 'que',\n",
       " 'diz',\n",
       " 'desculpe',\n",
       " 'você',\n",
       " 'não',\n",
       " 'tem',\n",
       " 'permissão',\n",
       " 'para',\n",
       " 'acessar',\n",
       " 'esta',\n",
       " 'função',\n",
       " 'entre',\n",
       " 'em',\n",
       " 'contato',\n",
       " 'com',\n",
       " 'o',\n",
       " 'administrador',\n",
       " 'para',\n",
       " 'obter',\n",
       " 'ajuda',\n",
       " 'é',\n",
       " 'apropriado',\n",
       " 'um',\n",
       " 'pedido',\n",
       " 'de',\n",
       " 'desculpas',\n",
       " 'neste',\n",
       " 'caso',\n",
       " 'é',\n",
       " 'um',\n",
       " 'caso',\n",
       " 'claro',\n",
       " 'que',\n",
       " 'o',\n",
       " 'problema',\n",
       " 'não',\n",
       " 'é',\n",
       " 'culpa',\n",
       " 'do',\n",
       " 'sistema',\n",
       " 'plataforma',\n",
       " 'provedor',\n",
       " 'do',\n",
       " 'serviço',\n",
       " 'então',\n",
       " 'por',\n",
       " 'que',\n",
       " 'deveria',\n",
       " 'existir',\n",
       " 'esse',\n",
       " 'pedido',\n",
       " 'de',\n",
       " 'desculpas',\n",
       " 'isso',\n",
       " 'é',\n",
       " 'importante',\n",
       " 'tem',\n",
       " 'alguma',\n",
       " 'fonte',\n",
       " 'de',\n",
       " 'informação',\n",
       " 'autoritativa',\n",
       " 'que',\n",
       " 'justifique',\n",
       " 'o',\n",
       " 'seu',\n",
       " 'uso',\n",
       " 'note',\n",
       " 'que',\n",
       " 'não',\n",
       " 'estou',\n",
       " 'perguntando',\n",
       " 'se',\n",
       " 'você',\n",
       " 'usa',\n",
       " 'de',\n",
       " 'um',\n",
       " 'jeito',\n",
       " 'ou',\n",
       " 'de',\n",
       " 'outro',\n",
       " 'e',\n",
       " 'o',\n",
       " 'que',\n",
       " 'você',\n",
       " 'acha',\n",
       " 'que',\n",
       " 'é',\n",
       " 'certo',\n",
       " 'respostas',\n",
       " 'com',\n",
       " 'opiniões',\n",
       " 'sem',\n",
       " 'base',\n",
       " 'são',\n",
       " 'inválidas',\n",
       " 'e',\n",
       " 'devem',\n",
       " 'ser',\n",
       " 'votadas',\n",
       " 'negativamente',\n",
       " 'informações',\n",
       " 'que',\n",
       " 'indiquem',\n",
       " 'com',\n",
       " 'clareza',\n",
       " 'e',\n",
       " 'justificativa',\n",
       " 'de',\n",
       " 'qual',\n",
       " 'o',\n",
       " 'motivo',\n",
       " 'do',\n",
       " 'uso',\n",
       " 'ou',\n",
       " 'não',\n",
       " 'são',\n",
       " 'construtivas',\n",
       " 'me',\n",
       " 'parecem',\n",
       " 'termos',\n",
       " 'muito',\n",
       " 'próximos',\n",
       " 'e',\n",
       " 'eventualmente',\n",
       " 'vejo',\n",
       " 'textos',\n",
       " 'que',\n",
       " 'trocam',\n",
       " 'um',\n",
       " 'pelo',\n",
       " 'outro',\n",
       " 'como',\n",
       " 'se',\n",
       " 'em',\n",
       " 'algumas',\n",
       " 'determinadas',\n",
       " 'situações',\n",
       " 'suas',\n",
       " 'definições',\n",
       " 'se',\n",
       " 'sobreponham',\n",
       " 'quais',\n",
       " 'seriam',\n",
       " 'as',\n",
       " 'definições',\n",
       " 'técnicas',\n",
       " 'que',\n",
       " 'permitem',\n",
       " 'distinguir',\n",
       " 'o',\n",
       " 'que',\n",
       " 'é',\n",
       " 'api',\n",
       " 'biblioteca',\n",
       " 'e',\n",
       " 'framework',\n",
       " 'em',\n",
       " 'quais',\n",
       " 'situações',\n",
       " 'é',\n",
       " 'permitido',\n",
       " 'intercambiar',\n",
       " 'os',\n",
       " 'termos',\n",
       " 'sem',\n",
       " 'ferir',\n",
       " 'sua',\n",
       " 'definição',\n",
       " 'técnica',\n",
       " 'desenvolvi',\n",
       " 'uma',\n",
       " 'página',\n",
       " 'em',\n",
       " 'php',\n",
       " 'para',\n",
       " 'uso',\n",
       " 'interno',\n",
       " 'da',\n",
       " 'empresa',\n",
       " 'que',\n",
       " 'trabalho',\n",
       " 'e',\n",
       " 'apenas',\n",
       " 'pouquíssimas',\n",
       " 'pessoas',\n",
       " 'a',\n",
       " 'utilizam',\n",
       " 'através',\n",
       " 'dessa',\n",
       " 'página',\n",
       " 'é',\n",
       " 'possível',\n",
       " 'fazer',\n",
       " 'algumas',\n",
       " 'consultas',\n",
       " 'inserções',\n",
       " 'alterações',\n",
       " 'e',\n",
       " 'remoções',\n",
       " 'de',\n",
       " 'dados',\n",
       " 'de',\n",
       " 'uma',\n",
       " 'tabela',\n",
       " 'em',\n",
       " 'um',\n",
       " 'banco',\n",
       " 'de',\n",
       " 'dados',\n",
       " 'mysql',\n",
       " 'porém',\n",
       " 'eu',\n",
       " 'acredito',\n",
       " 'que',\n",
       " 'meu',\n",
       " 'código',\n",
       " 'em',\n",
       " 'php',\n",
       " 'não',\n",
       " 'está',\n",
       " 'protegido',\n",
       " 'contra',\n",
       " 'injeção',\n",
       " 'de',\n",
       " 'código',\n",
       " 'sql',\n",
       " 'por',\n",
       " 'exemplo',\n",
       " 'logo',\n",
       " 'digamos',\n",
       " 'que',\n",
       " 'o',\n",
       " 'usuário',\n",
       " 'usar',\n",
       " 'a',\n",
       " 'sentença',\n",
       " 'para',\n",
       " 'ao',\n",
       " 'campo',\n",
       " 'o',\n",
       " 'comando',\n",
       " 'ficaria',\n",
       " 'ele',\n",
       " 'vai',\n",
       " 'inserir',\n",
       " 'um',\n",
       " 'novo',\n",
       " 'registro',\n",
       " 'cujo',\n",
       " 'o',\n",
       " 'campo',\n",
       " 'será',\n",
       " 'e',\n",
       " 'logo',\n",
       " 'em',\n",
       " 'seguida',\n",
       " 'ele',\n",
       " 'vai',\n",
       " 'deletar',\n",
       " 'a',\n",
       " 'tabela',\n",
       " 'produtos',\n",
       " 'como',\n",
       " 'posso',\n",
       " 'melhorar',\n",
       " 'meu',\n",
       " 'código',\n",
       " 'para',\n",
       " 'prevenir',\n",
       " 'essa',\n",
       " 'situação',\n",
       " 'o',\n",
       " 'que',\n",
       " 'são',\n",
       " 'esses',\n",
       " 'tais',\n",
       " 'de',\n",
       " 'stack',\n",
       " 'e',\n",
       " 'heap',\n",
       " 'que',\n",
       " 'tanto',\n",
       " 'se',\n",
       " 'fala',\n",
       " 'em',\n",
       " 'gerenciamento',\n",
       " 'de',\n",
       " 'memória',\n",
       " 'isso',\n",
       " 'realmente',\n",
       " 'são',\n",
       " 'porções',\n",
       " 'da',\n",
       " 'memória',\n",
       " 'como',\n",
       " 'algumas',\n",
       " 'pessoas',\n",
       " 'falam',\n",
       " 'ou',\n",
       " 'é',\n",
       " 'apenas',\n",
       " 'um',\n",
       " 'conceito',\n",
       " 'abstrato',\n",
       " 'para',\n",
       " 'facilitar',\n",
       " 'o',\n",
       " 'entendimento',\n",
       " 'da',\n",
       " 'forma',\n",
       " 'como',\n",
       " 'se',\n",
       " 'gerencia',\n",
       " 'a',\n",
       " 'memória',\n",
       " 'algum',\n",
       " 'deles',\n",
       " 'é',\n",
       " 'mais',\n",
       " 'rápido',\n",
       " 'que',\n",
       " 'o',\n",
       " 'outro',\n",
       " 'se',\n",
       " 'um',\n",
       " 'é',\n",
       " 'claramente',\n",
       " 'mais',\n",
       " 'rápido',\n",
       " 'por',\n",
       " 'que',\n",
       " 'existe',\n",
       " 'o',\n",
       " 'outro',\n",
       " 'faz',\n",
       " 'diferença',\n",
       " 'se',\n",
       " 'estou',\n",
       " 'usando',\n",
       " 'por',\n",
       " 'exemplo',\n",
       " 'assembly',\n",
       " 'c',\n",
       " 'java',\n",
       " 'ou',\n",
       " 'javascript',\n",
       " 'windows',\n",
       " 'ou',\n",
       " 'linux',\n",
       " 'isso',\n",
       " 'é',\n",
       " 'controlado',\n",
       " 'pela',\n",
       " 'linguagem',\n",
       " 'ou',\n",
       " 'pelo',\n",
       " 'sistema',\n",
       " 'operacional',\n",
       " 'enfim',\n",
       " 'queria',\n",
       " 'entender',\n",
       " 'melhor',\n",
       " 'esse',\n",
       " 'conceito',\n",
       " 'que',\n",
       " 'parece',\n",
       " 'ser',\n",
       " 'mal',\n",
       " 'compreendido',\n",
       " 'pelos',\n",
       " 'programadores',\n",
       " 'seria',\n",
       " 'muito',\n",
       " 'útil',\n",
       " 'uma',\n",
       " 'explicação',\n",
       " 'para',\n",
       " 'quem',\n",
       " 'está',\n",
       " 'começando',\n",
       " 'ou',\n",
       " 'aprendeu',\n",
       " 'isso',\n",
       " 'de',\n",
       " 'forma',\n",
       " 'errada',\n",
       " 'sempre',\n",
       " 'ouço',\n",
       " 'falar',\n",
       " 'de',\n",
       " 'e',\n",
       " 'mas',\n",
       " 'não',\n",
       " 'sei',\n",
       " 'diferenciar',\n",
       " 'um',\n",
       " 'do',\n",
       " 'outro',\n",
       " 'nem',\n",
       " 'para',\n",
       " 'que',\n",
       " 'servem',\n",
       " 'me',\n",
       " 'pareceu',\n",
       " 'algo',\n",
       " 'com',\n",
       " 'padrão',\n",
       " 'de',\n",
       " 'arquitetura',\n",
       " 'de',\n",
       " 'aplicação',\n",
       " 'estilo',\n",
       " 'common',\n",
       " 'js',\n",
       " 'dúvidas',\n",
       " 'como',\n",
       " 'é',\n",
       " 'feita',\n",
       " 'a',\n",
       " 'randomização',\n",
       " 'pelo',\n",
       " 'computador',\n",
       " 'qual',\n",
       " 'algorítimo',\n",
       " 'ou',\n",
       " 'qual',\n",
       " 'base',\n",
       " 'matemática',\n",
       " 'o',\n",
       " 'computador',\n",
       " 'usa',\n",
       " 'para',\n",
       " 'gerar',\n",
       " 'esses',\n",
       " 'números',\n",
       " 'por',\n",
       " 'exemplo',\n",
       " 'no',\n",
       " 'javascript',\n",
       " 'utilizo',\n",
       " 'o',\n",
       " 'ele',\n",
       " 'me',\n",
       " 'retorna',\n",
       " 'diferentes',\n",
       " 'números',\n",
       " 'todas',\n",
       " 'as',\n",
       " 'vezes',\n",
       " 'como',\n",
       " 'por',\n",
       " 'exemplo',\n",
       " 'e',\n",
       " 'etc',\n",
       " 'como',\n",
       " 'busco',\n",
       " 'nos',\n",
       " 'correios',\n",
       " 'os',\n",
       " 'detalhes',\n",
       " 'de',\n",
       " 'um',\n",
       " 'endereço',\n",
       " 'utilizando',\n",
       " 'seu',\n",
       " 'cep',\n",
       " 'similar',\n",
       " 'aos',\n",
       " 'cadastros',\n",
       " 'de',\n",
       " 'endereço',\n",
       " 'que',\n",
       " 'vemos',\n",
       " 'nos',\n",
       " 'sites',\n",
       " 'de',\n",
       " 'e',\n",
       " 'commerce',\n",
       " 'vejo',\n",
       " 'em',\n",
       " 'muitos',\n",
       " 'códigos',\n",
       " 'e',\n",
       " 'até',\n",
       " 'mesmo',\n",
       " 'arquiteturas',\n",
       " 'a',\n",
       " 'palavra',\n",
       " 'callback',\n",
       " 'vejo',\n",
       " 'que',\n",
       " 'é',\n",
       " 'em',\n",
       " 'funções',\n",
       " 'javascript',\n",
       " 'mas',\n",
       " 'o',\n",
       " 'que',\n",
       " 'é',\n",
       " 'como',\n",
       " 'é',\n",
       " 'usada',\n",
       " 'por',\n",
       " 'que',\n",
       " 'gostaria',\n",
       " 'de',\n",
       " 'um',\n",
       " 'exemplo',\n",
       " 'de',\n",
       " 'uso',\n",
       " 'real',\n",
       " 'é',\n",
       " 'comum',\n",
       " 'vermos',\n",
       " 'a',\n",
       " 'recomendação',\n",
       " 'de',\n",
       " 'usar',\n",
       " 'apenas',\n",
       " 'um',\n",
       " 'por',\n",
       " 'função',\n",
       " 'método',\n",
       " 'mas',\n",
       " 'isso',\n",
       " 'parece',\n",
       " 'algo',\n",
       " 'sem',\n",
       " 'sentido',\n",
       " 'e',\n",
       " 'deixa',\n",
       " 'o',\n",
       " 'código',\n",
       " 'mais',\n",
       " 'confuso',\n",
       " 'em',\n",
       " 'muitos',\n",
       " 'casos',\n",
       " 'veja',\n",
       " 'os',\n",
       " 'exemplos',\n",
       " 'forma',\n",
       " 'como',\n",
       " 'eu',\n",
       " 'costumo',\n",
       " 'fazer',\n",
       " 'forma',\n",
       " 'como',\n",
       " 'é',\n",
       " 'recomendado',\n",
       " 'por',\n",
       " 'que',\n",
       " 'há',\n",
       " 'essa',\n",
       " 'recomendação',\n",
       " 'o',\n",
       " 'que',\n",
       " 'se',\n",
       " 'ganha',\n",
       " 'em',\n",
       " 'usar',\n",
       " 'um',\n",
       " 'único',\n",
       " 'estou',\n",
       " 'pensando',\n",
       " 'em',\n",
       " 'fazer',\n",
       " 'uma',\n",
       " 'aplicação',\n",
       " 'para',\n",
       " 'vender',\n",
       " 'gostaria',\n",
       " 'de',\n",
       " 'saber',\n",
       " 'como',\n",
       " 'proteger',\n",
       " 'meu',\n",
       " 'código',\n",
       " 'fonte',\n",
       " 'para',\n",
       " 'manter',\n",
       " 'meu',\n",
       " 'software',\n",
       " 'seguro',\n",
       " 'eu',\n",
       " 'vi',\n",
       " 'que',\n",
       " 'os',\n",
       " 'bytecodes',\n",
       " 'do',\n",
       " 'java',\n",
       " 'armazenados',\n",
       " 'no',\n",
       " 'arquivo',\n",
       " 'são',\n",
       " 'facilmente',\n",
       " 'convertidos',\n",
       " 'de',\n",
       " 'volta',\n",
       " 'para',\n",
       " 'usando',\n",
       " 'a',\n",
       " 'ferramenta',\n",
       " 'java',\n",
       " 'decompiler',\n",
       " 'os',\n",
       " 'podem',\n",
       " 'ser',\n",
       " 'facilmente',\n",
       " 'encontrados',\n",
       " 'dentro',\n",
       " 'de',\n",
       " 'um',\n",
       " 'para',\n",
       " 'o',\n",
       " 'caso',\n",
       " 'dos',\n",
       " 'desktops',\n",
       " 'ou',\n",
       " 'até',\n",
       " 'mesmo',\n",
       " 'em',\n",
       " 'um',\n",
       " 'conforme',\n",
       " 'mostrado',\n",
       " 'nesse',\n",
       " 'post',\n",
       " 'como',\n",
       " 'fazem',\n",
       " 'os',\n",
       " 'milhões',\n",
       " 'de',\n",
       " 'aplicativos',\n",
       " 'no',\n",
       " 'google',\n",
       " 'play',\n",
       " 'para',\n",
       " 'protegerem',\n",
       " 'seus',\n",
       " 'códigos',\n",
       " 'fontes',\n",
       " 'pois',\n",
       " 'deixá',\n",
       " 'los',\n",
       " 'expostos',\n",
       " 'me',\n",
       " 'parece',\n",
       " 'meio',\n",
       " 'inseguro',\n",
       " 'ou',\n",
       " 'não',\n",
       " 'é',\n",
       " 'se',\n",
       " 'sim',\n",
       " 'se',\n",
       " 'é',\n",
       " 'inseguro',\n",
       " 'tem',\n",
       " 'como',\n",
       " 'eu',\n",
       " 'desenvolver',\n",
       " 'aplicações',\n",
       " 'que',\n",
       " 'mantenham',\n",
       " 'escondido',\n",
       " 'o',\n",
       " 'código',\n",
       " 'fonte',\n",
       " 'em',\n",
       " 'java',\n",
       " 'para',\n",
       " 'desktop',\n",
       " 'e',\n",
       " 'android',\n",
       " 'edição',\n",
       " 'a',\n",
       " 'resposta',\n",
       " 'do',\n",
       " 'mgibsonbr',\n",
       " 'me',\n",
       " 'convenceu',\n",
       " 'de',\n",
       " 'não',\n",
       " 'ser',\n",
       " 'paranoico',\n",
       " 'e',\n",
       " 'querer',\n",
       " 'proteger',\n",
       " 'todo',\n",
       " 'o',\n",
       " 'código',\n",
       " 'fonte',\n",
       " 'entretanto',\n",
       " 'existem',\n",
       " 'alguns',\n",
       " 'pontos',\n",
       " 'da',\n",
       " 'aplicação',\n",
       " 'que',\n",
       " 'não',\n",
       " 'podem',\n",
       " 'ser',\n",
       " 'revelados',\n",
       " 'por',\n",
       " 'motivo',\n",
       " 'de',\n",
       " 'segurança',\n",
       " 'dos',\n",
       " 'dados',\n",
       " 'por',\n",
       " 'exemplo',\n",
       " 'imaginem',\n",
       " 'o',\n",
       " 'estrago',\n",
       " 'se',\n",
       " 'alguém',\n",
       " 'tiver',\n",
       " 'o',\n",
       " 'endereço',\n",
       " 'o',\n",
       " 'usuário',\n",
       " 'e',\n",
       " 'a',\n",
       " 'senha',\n",
       " 'do',\n",
       " 'seu',\n",
       " 'banco',\n",
       " 'de',\n",
       " 'dados',\n",
       " 'nos',\n",
       " 'comentários',\n",
       " 'o',\n",
       " 'mgibsonbr',\n",
       " 'tentou',\n",
       " 'responder',\n",
       " 'essa',\n",
       " 'minha',\n",
       " 'dúvida',\n",
       " 'mas',\n",
       " 'eu',\n",
       " 'não',\n",
       " 'entendi',\n",
       " 'ou',\n",
       " 'talvez',\n",
       " 'eu',\n",
       " 'não',\n",
       " 'tenha',\n",
       " 'deixado',\n",
       " 'a',\n",
       " 'dúvida',\n",
       " 'clara',\n",
       " 'enfim',\n",
       " 'sobre',\n",
       " 'o',\n",
       " 'ofuscador',\n",
       " 'através',\n",
       " 'de',\n",
       " 'testes',\n",
       " 'pude',\n",
       " 'ver',\n",
       " 'que',\n",
       " 'ele',\n",
       " 'funciona',\n",
       " 'entretanto',\n",
       " 'tenho',\n",
       " 'dúvidas',\n",
       " 'se',\n",
       " 'ele',\n",
       " 'é',\n",
       " 'mesmo',\n",
       " 'a',\n",
       " 'solução',\n",
       " 'que',\n",
       " 'eu',\n",
       " 'procuro',\n",
       " 'ou',\n",
       " 'se',\n",
       " 'a',\n",
       " 'solução',\n",
       " 'na',\n",
       " 'verdade',\n",
       " 'é',\n",
       " 'remodelar',\n",
       " 'o',\n",
       " 'meu',\n",
       " 'software',\n",
       " 'de',\n",
       " 'uma',\n",
       " 'maneira',\n",
       " 'que',\n",
       " 'não',\n",
       " 'guarde',\n",
       " 'no',\n",
       " 'código',\n",
       " 'fonte',\n",
       " 'nenhum',\n",
       " 'tipo',\n",
       " 'de',\n",
       " 'informações',\n",
       " 'que',\n",
       " 'exijam',\n",
       " 'segredo',\n",
       " 'como',\n",
       " 'por',\n",
       " 'exemplo',\n",
       " 'usuário',\n",
       " 'senhas',\n",
       " 'e',\n",
       " 'endereços',\n",
       " 'de',\n",
       " 'bd',\n",
       " 'se',\n",
       " 'a',\n",
       " 'solução',\n",
       " 'for',\n",
       " 'remodelar',\n",
       " 'o',\n",
       " 'software',\n",
       " 'por',\n",
       " 'favor',\n",
       " 'me',\n",
       " 'expliquem',\n",
       " 'como',\n",
       " 'manter',\n",
       " 'um',\n",
       " 'arquivo',\n",
       " ...]"
      ]
     },
     "execution_count": 29,
     "metadata": {},
     "output_type": "execute_result"
    }
   ],
   "source": [
    "tokens_pt"
   ]
  },
  {
   "cell_type": "code",
   "execution_count": 30,
   "metadata": {},
   "outputs": [],
   "source": [
    "from nltk.lm.preprocessing import padded_everygram_pipeline"
   ]
  },
  {
   "cell_type": "code",
   "execution_count": 31,
   "metadata": {},
   "outputs": [],
   "source": [
    "pt_treino_bigram, vocab_pt = padded_everygram_pipeline(2, tokens_pt)"
   ]
  },
  {
   "cell_type": "code",
   "execution_count": 32,
   "metadata": {},
   "outputs": [],
   "source": [
    "from nltk.lm import MLE"
   ]
  },
  {
   "cell_type": "code",
   "execution_count": 33,
   "metadata": {},
   "outputs": [],
   "source": [
    "modelo_pt = MLE(2)"
   ]
  },
  {
   "cell_type": "code",
   "execution_count": 34,
   "metadata": {},
   "outputs": [],
   "source": [
    "modelo_pt.fit(pt_treino_bigram, vocab_pt)"
   ]
  },
  {
   "cell_type": "code",
   "execution_count": 35,
   "metadata": {},
   "outputs": [
    {
     "data": {
      "text/plain": [
       "['s', '</s>', 'o', '</s>', '<s>', 'o', '</s>', '<s>']"
      ]
     },
     "execution_count": 35,
     "metadata": {},
     "output_type": "execute_result"
    }
   ],
   "source": [
    "modelo_pt.generate(8)"
   ]
  },
  {
   "cell_type": "code",
   "execution_count": 36,
   "metadata": {},
   "outputs": [],
   "source": [
    "from nltk.lm import NgramCounter"
   ]
  },
  {
   "cell_type": "code",
   "execution_count": 37,
   "metadata": {},
   "outputs": [
    {
     "data": {
      "text/plain": [
       "dict_items([('a', 2578), ('</s>', 3379), ('e', 1802), ('o', 1063), ('p', 851), ('u', 276), ('y', 15), ('i', 358), ('b', 172), ('ó', 42), ('m', 26), ('á', 52), ('é', 90), ('g', 4), ('í', 16), ('ú', 6), ('l', 22), ('v', 22), ('ã', 5), ('â', 14), ('s', 9), ('_', 1), ('d', 2)])"
      ]
     },
     "execution_count": 37,
     "metadata": {},
     "output_type": "execute_result"
    }
   ],
   "source": [
    "modelo_pt.counts[['m']].items()"
   ]
  },
  {
   "cell_type": "code",
   "execution_count": 48,
   "metadata": {},
   "outputs": [],
   "source": [
    "frase = 'Luke Skywalker bom dia linguagem programacao'\n",
    "palavras = frase.split()\n",
    "palavras_fakechar = [ list(pad_both_ends(palavra, 2)) for palavra in palavras ]\n",
    "palavras_bigrams = [ list(bigrams(palavra)) for palavra in palavras_fakechar ]"
   ]
  },
  {
   "cell_type": "code",
   "execution_count": 50,
   "metadata": {},
   "outputs": [
    {
     "name": "stdout",
     "output_type": "stream",
     "text": [
      "[[('<s>', 'L'), ('L', 'u'), ('u', 'k'), ('k', 'e'), ('e', '</s>')], [('<s>', 'S'), ('S', 'k'), ('k', 'y'), ('y', 'w'), ('w', 'a'), ('a', 'l'), ('l', 'k'), ('k', 'e'), ('e', 'r'), ('r', '</s>')], [('<s>', 'b'), ('b', 'o'), ('o', 'm'), ('m', '</s>')], [('<s>', 'd'), ('d', 'i'), ('i', 'a'), ('a', '</s>')], [('<s>', 'l'), ('l', 'i'), ('i', 'n'), ('n', 'g'), ('g', 'u'), ('u', 'a'), ('a', 'g'), ('g', 'e'), ('e', 'm'), ('m', '</s>')], [('<s>', 'p'), ('p', 'r'), ('r', 'o'), ('o', 'g'), ('g', 'r'), ('r', 'a'), ('a', 'm'), ('m', 'a'), ('a', 'c'), ('c', 'a'), ('a', 'o'), ('o', '</s>')]]\n"
     ]
    }
   ],
   "source": [
    "print(list(palavras_bigrams))"
   ]
  },
  {
   "cell_type": "markdown",
   "metadata": {},
   "source": [
    "## Testar o modelo usando perplexidade\n",
    "Quanto menor a perplexidade, mais aderente é o exemplo ao modelo"
   ]
  },
  {
   "cell_type": "code",
   "execution_count": 51,
   "metadata": {},
   "outputs": [
    {
     "name": "stdout",
     "output_type": "stream",
     "text": [
      "inf\n"
     ]
    }
   ],
   "source": [
    "print(modelo_pt.perplexity(palavras_bigrams[0]))"
   ]
  },
  {
   "cell_type": "code",
   "execution_count": 67,
   "metadata": {},
   "outputs": [
    {
     "data": {
      "text/plain": [
       "inf"
      ]
     },
     "execution_count": 67,
     "metadata": {},
     "output_type": "execute_result"
    }
   ],
   "source": [
    "modelo_pt.perplexity(palavras_bigrams[1])"
   ]
  },
  {
   "cell_type": "code",
   "execution_count": 68,
   "metadata": {},
   "outputs": [
    {
     "name": "stdout",
     "output_type": "stream",
     "text": [
      "Luke - inf\n",
      "Skywalker - inf\n",
      "bom - 14.716613291325794\n",
      "dia - 7.86995645505658\n",
      "linguagem - 11.220489267412507\n",
      "programacao - 13.209141054241531\n"
     ]
    }
   ],
   "source": [
    "for i, (palavra , bigram) in enumerate(zip(palavras, palavras_bigrams)):\n",
    "    perp = modelo_pt.perplexity(palavras_bigrams[i])\n",
    "    print(f'{palavra} - {perp}')"
   ]
  },
  {
   "cell_type": "code",
   "execution_count": 69,
   "metadata": {},
   "outputs": [],
   "source": [
    "def lme_model_train(text_list):\n",
    "    full_text = ' '.join(text_list)\n",
    "    splited_text = full_text.split()\n",
    "    bigrams, vocabulary = padded_everygram_pipeline(order = 2, text = splited_text)\n",
    "    model = MLE(2)\n",
    "    model.fit(bigrams, vocabulary)\n",
    "    return model"
   ]
  },
  {
   "cell_type": "code",
   "execution_count": 77,
   "metadata": {},
   "outputs": [],
   "source": [
    "model_pt = lme_model_train(pt_treino)"
   ]
  },
  {
   "cell_type": "code",
   "execution_count": 78,
   "metadata": {},
   "outputs": [
    {
     "name": "stdout",
     "output_type": "stream",
     "text": [
      "Luke - inf\n",
      "Skywalker - inf\n",
      "bom - 14.898263376484977\n",
      "dia - 7.813053994367565\n",
      "linguagem - 11.33803319293939\n",
      "programacao - 13.150767464576857\n"
     ]
    }
   ],
   "source": [
    "for i, (palavra , bigram) in enumerate(zip(palavras, palavras_bigrams)):\n",
    "    perp = model_pt_2.perplexity(palavras_bigrams[i])\n",
    "    print(f'{palavra} - {perp}')"
   ]
  },
  {
   "cell_type": "code",
   "execution_count": 118,
   "metadata": {},
   "outputs": [],
   "source": [
    "def calculate_perplexity(model, text):\n",
    "    perplexity = 0\n",
    "    palavras = text.split()\n",
    "    palavras_fakechar = [ list(pad_both_ends(palavra, 2)) for palavra in palavras ]\n",
    "    palavras_bigrams = [ list(bigrams(palavra)) for palavra in palavras_fakechar ]\n",
    "    \n",
    "    for palavra in palavras_bigrams:\n",
    "        perplexity += model.perplexity(palavra)\n",
    "    \n",
    "    return perplexity"
   ]
  },
  {
   "cell_type": "code",
   "execution_count": 36,
   "metadata": {},
   "outputs": [
    {
     "data": {
      "text/plain": [
       "97.69848552220712"
      ]
     },
     "execution_count": 36,
     "metadata": {},
     "output_type": "execute_result"
    }
   ],
   "source": [
    "perp = calculate_perplexity(model_pt, pt_train_dataset.iloc[2])\n",
    "perp"
   ]
  },
  {
   "cell_type": "code",
   "execution_count": 37,
   "metadata": {},
   "outputs": [
    {
     "data": {
      "text/plain": [
       "inf"
      ]
     },
     "execution_count": 37,
     "metadata": {},
     "output_type": "execute_result"
    }
   ],
   "source": [
    "perp = calculate_perplexity(model_en, pt_train_dataset.iloc[2])\n",
    "perp"
   ]
  },
  {
   "cell_type": "code",
   "execution_count": 38,
   "metadata": {},
   "outputs": [
    {
     "data": {
      "text/plain": [
       "150.56583996240596"
      ]
     },
     "execution_count": 38,
     "metadata": {},
     "output_type": "execute_result"
    }
   ],
   "source": [
    "perp = calculate_perplexity(model_esp, pt_train_dataset.iloc[2])\n",
    "perp"
   ]
  },
  {
   "cell_type": "markdown",
   "metadata": {},
   "source": [
    "# Modelo de linguagem de Laplace"
   ]
  },
  {
   "cell_type": "code",
   "execution_count": 54,
   "metadata": {},
   "outputs": [],
   "source": [
    "from nltk.lm import Laplace\n",
    "\n",
    "def lme_model_train_laplace(text_list):\n",
    "    full_text = ' '.join(text_list)\n",
    "    splited_text = full_text.split()\n",
    "    bigrams, vocabulary = padded_everygram_pipeline(order = 2, text = splited_text)\n",
    "    model = Laplace(2)\n",
    "    model.fit(bigrams, vocabulary)\n",
    "    return model"
   ]
  },
  {
   "cell_type": "code",
   "execution_count": 60,
   "metadata": {},
   "outputs": [],
   "source": [
    "model_pt_laplace = lme_model_train_laplace(pt_train_dataset)"
   ]
  },
  {
   "cell_type": "code",
   "execution_count": 61,
   "metadata": {},
   "outputs": [
    {
     "data": {
      "text/plain": [
       "98.22640940724878"
      ]
     },
     "execution_count": 61,
     "metadata": {},
     "output_type": "execute_result"
    }
   ],
   "source": [
    "perp = calculate_perplexity(model_pt_laplace, pt_train_dataset.iloc[2])\n",
    "perp"
   ]
  },
  {
   "cell_type": "code",
   "execution_count": 62,
   "metadata": {},
   "outputs": [
    {
     "data": {
      "text/plain": [
       "1172.3755627267324"
      ]
     },
     "execution_count": 62,
     "metadata": {},
     "output_type": "execute_result"
    }
   ],
   "source": [
    "perp = calculate_perplexity(model_pt_laplace, en_train_dataset.iloc[2])\n",
    "perp"
   ]
  },
  {
   "cell_type": "code",
   "execution_count": 63,
   "metadata": {},
   "outputs": [
    {
     "data": {
      "text/plain": [
       "1904.917717854228"
      ]
     },
     "execution_count": 63,
     "metadata": {},
     "output_type": "execute_result"
    }
   ],
   "source": [
    "perp = calculate_perplexity(model_pt_laplace, esp_train_dataset.iloc[2])\n",
    "perp"
   ]
  },
  {
   "cell_type": "code",
   "execution_count": 123,
   "metadata": {},
   "outputs": [],
   "source": [
    "def assign_language(df):\n",
    "    \n",
    "    df['pt'] = 0\n",
    "    df['en'] = 0\n",
    "    df['esp'] = 0\n",
    "    df['Idioma Inferido'] = 'vazio'\n",
    "    \n",
    "    df['pt'] = df['Questão Limpa'].apply(lambda x: calculate_perplexity(model_pt_laplace, x))\n",
    "    df['en'] = df['Questão Limpa'].apply(lambda x: calculate_perplexity(model_en_laplace, x))\n",
    "    df['esp'] = df['Questão Limpa'].apply(lambda x: calculate_perplexity(model_esp_laplace, x))\n",
    "    \n",
    "    df['Idioma Inferido'] = df[['pt', 'en', 'esp']].idxmin(axis=1)\n",
    "    \n",
    "    return df"
   ]
  },
  {
   "cell_type": "code",
   "execution_count": 135,
   "metadata": {},
   "outputs": [
    {
     "data": {
      "text/plain": [
       "array(['esp', 'en'], dtype=object)"
      ]
     },
     "execution_count": 135,
     "metadata": {},
     "output_type": "execute_result"
    }
   ],
   "source": [
    "pt_test_dataset = pd.DataFrame(pt_test_dataset)\n",
    "\n",
    "pt_test_dataset = assign_language(pt_test_dataset)\n",
    "\n",
    "pt_test_dataset['Idioma Inferido'].unique()\n",
    "\n",
    "en_test_dataset = pd.DataFrame(en_test_dataset)\n",
    "\n",
    "en_test_dataset = assign_language(en_test_dataset)\n",
    "\n",
    "en_test_dataset['Idioma Inferido'].unique()\n",
    "\n",
    "esp_test_dataset = pd.DataFrame(esp_test_dataset)\n",
    "\n",
    "esp_test_dataset = assign_language(esp_test_dataset)\n",
    "\n",
    "esp_test_dataset['Idioma Inferido'].unique()"
   ]
  },
  {
   "cell_type": "code",
   "execution_count": 133,
   "metadata": {},
   "outputs": [
    {
     "data": {
      "text/html": [
       "<div>\n",
       "<style scoped>\n",
       "    .dataframe tbody tr th:only-of-type {\n",
       "        vertical-align: middle;\n",
       "    }\n",
       "\n",
       "    .dataframe tbody tr th {\n",
       "        vertical-align: top;\n",
       "    }\n",
       "\n",
       "    .dataframe thead th {\n",
       "        text-align: right;\n",
       "    }\n",
       "</style>\n",
       "<table border=\"1\" class=\"dataframe\">\n",
       "  <thead>\n",
       "    <tr style=\"text-align: right;\">\n",
       "      <th></th>\n",
       "      <th>Questão Limpa</th>\n",
       "      <th>pt</th>\n",
       "      <th>en</th>\n",
       "      <th>esp</th>\n",
       "      <th>Idioma Inferido</th>\n",
       "    </tr>\n",
       "  </thead>\n",
       "  <tbody>\n",
       "    <tr>\n",
       "      <td>209</td>\n",
       "      <td>normalmente incluía un favicon en mis páginas ...</td>\n",
       "      <td>1453.651246</td>\n",
       "      <td>1356.572246</td>\n",
       "      <td>968.454374</td>\n",
       "      <td>esp</td>\n",
       "    </tr>\n",
       "    <tr>\n",
       "      <td>278</td>\n",
       "      <td>estoy informandome con las funciones para inte...</td>\n",
       "      <td>952.042834</td>\n",
       "      <td>964.180795</td>\n",
       "      <td>601.365697</td>\n",
       "      <td>esp</td>\n",
       "    </tr>\n",
       "    <tr>\n",
       "      <td>125</td>\n",
       "      <td>estamos realizando una app híbrida con phonega...</td>\n",
       "      <td>1815.794696</td>\n",
       "      <td>1911.272302</td>\n",
       "      <td>1270.893232</td>\n",
       "      <td>esp</td>\n",
       "    </tr>\n",
       "    <tr>\n",
       "      <td>20</td>\n",
       "      <td>alguien sabe que significa esto en javascript...</td>\n",
       "      <td>193.752506</td>\n",
       "      <td>161.595054</td>\n",
       "      <td>98.065992</td>\n",
       "      <td>esp</td>\n",
       "    </tr>\n",
       "    <tr>\n",
       "      <td>472</td>\n",
       "      <td>hoy he empezado a usar python y me pregunto si...</td>\n",
       "      <td>904.437562</td>\n",
       "      <td>1069.431973</td>\n",
       "      <td>581.695771</td>\n",
       "      <td>esp</td>\n",
       "    </tr>\n",
       "    <tr>\n",
       "      <td>...</td>\n",
       "      <td>...</td>\n",
       "      <td>...</td>\n",
       "      <td>...</td>\n",
       "      <td>...</td>\n",
       "      <td>...</td>\n",
       "    </tr>\n",
       "    <tr>\n",
       "      <td>490</td>\n",
       "      <td>hay alguna forma de pintar de diferentes colo...</td>\n",
       "      <td>515.638590</td>\n",
       "      <td>524.974608</td>\n",
       "      <td>305.814075</td>\n",
       "      <td>esp</td>\n",
       "    </tr>\n",
       "    <tr>\n",
       "      <td>241</td>\n",
       "      <td>en muchas ocasiones he requerido de tomar un v...</td>\n",
       "      <td>823.831754</td>\n",
       "      <td>817.080581</td>\n",
       "      <td>414.687702</td>\n",
       "      <td>esp</td>\n",
       "    </tr>\n",
       "    <tr>\n",
       "      <td>169</td>\n",
       "      <td>me explico quiero que la expresión regular enc...</td>\n",
       "      <td>3960.141369</td>\n",
       "      <td>3557.114602</td>\n",
       "      <td>2192.090094</td>\n",
       "      <td>esp</td>\n",
       "    </tr>\n",
       "    <tr>\n",
       "      <td>452</td>\n",
       "      <td>soy nuevo en desarrollo web seguramente lo que...</td>\n",
       "      <td>926.609059</td>\n",
       "      <td>791.515933</td>\n",
       "      <td>461.433249</td>\n",
       "      <td>esp</td>\n",
       "    </tr>\n",
       "    <tr>\n",
       "      <td>194</td>\n",
       "      <td>estoy trabajando en un proyecto y uso git para...</td>\n",
       "      <td>898.806851</td>\n",
       "      <td>914.459197</td>\n",
       "      <td>573.448851</td>\n",
       "      <td>esp</td>\n",
       "    </tr>\n",
       "  </tbody>\n",
       "</table>\n",
       "<p>100 rows × 5 columns</p>\n",
       "</div>"
      ],
      "text/plain": [
       "                                         Questão Limpa           pt  \\\n",
       "209  normalmente incluía un favicon en mis páginas ...  1453.651246   \n",
       "278  estoy informandome con las funciones para inte...   952.042834   \n",
       "125  estamos realizando una app híbrida con phonega...  1815.794696   \n",
       "20    alguien sabe que significa esto en javascript...   193.752506   \n",
       "472  hoy he empezado a usar python y me pregunto si...   904.437562   \n",
       "..                                                 ...          ...   \n",
       "490   hay alguna forma de pintar de diferentes colo...   515.638590   \n",
       "241  en muchas ocasiones he requerido de tomar un v...   823.831754   \n",
       "169  me explico quiero que la expresión regular enc...  3960.141369   \n",
       "452  soy nuevo en desarrollo web seguramente lo que...   926.609059   \n",
       "194  estoy trabajando en un proyecto y uso git para...   898.806851   \n",
       "\n",
       "              en          esp Idioma Inferido  \n",
       "209  1356.572246   968.454374             esp  \n",
       "278   964.180795   601.365697             esp  \n",
       "125  1911.272302  1270.893232             esp  \n",
       "20    161.595054    98.065992             esp  \n",
       "472  1069.431973   581.695771             esp  \n",
       "..           ...          ...             ...  \n",
       "490   524.974608   305.814075             esp  \n",
       "241   817.080581   414.687702             esp  \n",
       "169  3557.114602  2192.090094             esp  \n",
       "452   791.515933   461.433249             esp  \n",
       "194   914.459197   573.448851             esp  \n",
       "\n",
       "[100 rows x 5 columns]"
      ]
     },
     "execution_count": 133,
     "metadata": {},
     "output_type": "execute_result"
    }
   ],
   "source": [
    "esp_test_dataset"
   ]
  },
  {
   "cell_type": "code",
   "execution_count": null,
   "metadata": {},
   "outputs": [],
   "source": []
  }
 ],
 "metadata": {
  "kernelspec": {
   "display_name": "Python 3",
   "language": "python",
   "name": "python3"
  },
  "language_info": {
   "codemirror_mode": {
    "name": "ipython",
    "version": 3
   },
   "file_extension": ".py",
   "mimetype": "text/x-python",
   "name": "python",
   "nbconvert_exporter": "python",
   "pygments_lexer": "ipython3",
   "version": "3.7.4"
  }
 },
 "nbformat": 4,
 "nbformat_minor": 2
}
